{
  "nbformat": 4,
  "nbformat_minor": 0,
  "metadata": {
    "kernelspec": {
      "display_name": "Python 3",
      "language": "python",
      "name": "python3"
    },
    "language_info": {
      "codemirror_mode": {
        "name": "ipython",
        "version": 3
      },
      "file_extension": ".py",
      "mimetype": "text/x-python",
      "name": "python",
      "nbconvert_exporter": "python",
      "pygments_lexer": "ipython3",
      "version": "3.8.5"
    },
    "colab": {
      "name": "Copy of part2.ipynb",
      "provenance": [],
      "collapsed_sections": [],
      "include_colab_link": true
    },
    "accelerator": "GPU"
  },
  "cells": [
    {
      "cell_type": "markdown",
      "metadata": {
        "id": "view-in-github",
        "colab_type": "text"
      },
      "source": [
        "<a href=\"https://colab.research.google.com/github/rahulpathak2002/ML2/blob/main/Project_part2.ipynb\" target=\"_parent\"><img src=\"https://colab.research.google.com/assets/colab-badge.svg\" alt=\"Open In Colab\"/></a>"
      ]
    },
    {
      "cell_type": "code",
      "metadata": {
        "id": "ZIcYVbm4DjLs"
      },
      "source": [
        "#importing libraries\n",
        "import numpy as np\n",
        "import pandas as pd\n",
        "import matplotlib.pyplot as plt\n",
        "import seaborn as sns\n",
        "%matplotlib inline\n",
        "from sklearn.model_selection import train_test_split\n",
        "from sklearn.preprocessing import StandardScaler\n",
        "from sklearn.tree import DecisionTreeClassifier\n",
        "from sklearn.ensemble import RandomForestClassifier\n",
        "from sklearn.metrics import accuracy_score\n",
        "from sklearn.pipeline import Pipeline\n",
        "from sklearn.model_selection import GridSearchCV\n",
        "from sklearn.ensemble import BaggingClassifier, AdaBoostClassifier\n",
        "from matplotlib import colors\n",
        "from sklearn.model_selection import cross_val_score \n",
        "from sklearn.metrics import confusion_matrix \n",
        "from sklearn.metrics import plot_confusion_matrix\n",
        "from sklearn.linear_model import LogisticRegression\n",
        "from sklearn import tree\n",
        "from sklearn.inspection import permutation_importance\n",
        "from sklearn.model_selection import RandomizedSearchCV\n",
        "from IPython.display import display, HTML, Markdown\n",
        "from sklearn import metrics\n",
        "from sklearn.metrics import roc_curve\n",
        "from sklearn.metrics import roc_auc_score\n",
        "from sklearn.metrics import f1_score"
      ],
      "execution_count": null,
      "outputs": []
    },
    {
      "cell_type": "code",
      "metadata": {
        "colab": {
          "base_uri": "https://localhost:8080/"
        },
        "id": "9nAyzWFQD8PT",
        "outputId": "777ee1ff-a887-4823-c1c1-128e73874056"
      },
      "source": [
        "from google.colab import drive\n",
        "drive.mount('/content/drive')"
      ],
      "execution_count": null,
      "outputs": [
        {
          "output_type": "stream",
          "text": [
            "Drive already mounted at /content/drive; to attempt to forcibly remount, call drive.mount(\"/content/drive\", force_remount=True).\n"
          ],
          "name": "stdout"
        }
      ]
    },
    {
      "cell_type": "code",
      "metadata": {
        "id": "as1lXsHuEjU1"
      },
      "source": [
        "import os\n",
        "os.chdir(\"/content/drive/MyDrive\")"
      ],
      "execution_count": null,
      "outputs": []
    },
    {
      "cell_type": "code",
      "metadata": {
        "id": "5E8MpmvdDjLv"
      },
      "source": [
        "#importing the dataset\n",
        "X_train=pd.read_csv(\"/content/drive/MyDrive/ML2Project/Santander/train.csv\")"
      ],
      "execution_count": null,
      "outputs": []
    },
    {
      "cell_type": "code",
      "metadata": {
        "id": "8N3d8F61rePp"
      },
      "source": [
        "#defining target\n",
        "target = X_train['TARGET']"
      ],
      "execution_count": null,
      "outputs": []
    },
    {
      "cell_type": "code",
      "metadata": {
        "colab": {
          "base_uri": "https://localhost:8080/"
        },
        "id": "rOTmmZUSDjLw",
        "outputId": "aa000d20-0ddc-4068-8745-79786315428e"
      },
      "source": [
        "X_train.shape"
      ],
      "execution_count": null,
      "outputs": [
        {
          "output_type": "execute_result",
          "data": {
            "text/plain": [
              "(76020, 371)"
            ]
          },
          "metadata": {
            "tags": []
          },
          "execution_count": 55
        }
      ]
    },
    {
      "cell_type": "code",
      "metadata": {
        "colab": {
          "base_uri": "https://localhost:8080/",
          "height": 251
        },
        "id": "QmqGzgxSDjLw",
        "outputId": "d64d098f-7161-4cdb-e474-b2f03ab0f89d"
      },
      "source": [
        "X_train.head()"
      ],
      "execution_count": null,
      "outputs": [
        {
          "output_type": "execute_result",
          "data": {
            "text/html": [
              "<div>\n",
              "<style scoped>\n",
              "    .dataframe tbody tr th:only-of-type {\n",
              "        vertical-align: middle;\n",
              "    }\n",
              "\n",
              "    .dataframe tbody tr th {\n",
              "        vertical-align: top;\n",
              "    }\n",
              "\n",
              "    .dataframe thead th {\n",
              "        text-align: right;\n",
              "    }\n",
              "</style>\n",
              "<table border=\"1\" class=\"dataframe\">\n",
              "  <thead>\n",
              "    <tr style=\"text-align: right;\">\n",
              "      <th></th>\n",
              "      <th>ID</th>\n",
              "      <th>var3</th>\n",
              "      <th>var15</th>\n",
              "      <th>imp_ent_var16_ult1</th>\n",
              "      <th>imp_op_var39_comer_ult1</th>\n",
              "      <th>imp_op_var39_comer_ult3</th>\n",
              "      <th>imp_op_var40_comer_ult1</th>\n",
              "      <th>imp_op_var40_comer_ult3</th>\n",
              "      <th>imp_op_var40_efect_ult1</th>\n",
              "      <th>imp_op_var40_efect_ult3</th>\n",
              "      <th>imp_op_var40_ult1</th>\n",
              "      <th>imp_op_var41_comer_ult1</th>\n",
              "      <th>imp_op_var41_comer_ult3</th>\n",
              "      <th>imp_op_var41_efect_ult1</th>\n",
              "      <th>imp_op_var41_efect_ult3</th>\n",
              "      <th>imp_op_var41_ult1</th>\n",
              "      <th>imp_op_var39_efect_ult1</th>\n",
              "      <th>imp_op_var39_efect_ult3</th>\n",
              "      <th>imp_op_var39_ult1</th>\n",
              "      <th>imp_sal_var16_ult1</th>\n",
              "      <th>ind_var1_0</th>\n",
              "      <th>ind_var1</th>\n",
              "      <th>ind_var2_0</th>\n",
              "      <th>ind_var2</th>\n",
              "      <th>ind_var5_0</th>\n",
              "      <th>ind_var5</th>\n",
              "      <th>ind_var6_0</th>\n",
              "      <th>ind_var6</th>\n",
              "      <th>ind_var8_0</th>\n",
              "      <th>ind_var8</th>\n",
              "      <th>ind_var12_0</th>\n",
              "      <th>ind_var12</th>\n",
              "      <th>ind_var13_0</th>\n",
              "      <th>ind_var13_corto_0</th>\n",
              "      <th>ind_var13_corto</th>\n",
              "      <th>ind_var13_largo_0</th>\n",
              "      <th>ind_var13_largo</th>\n",
              "      <th>ind_var13_medio_0</th>\n",
              "      <th>ind_var13_medio</th>\n",
              "      <th>ind_var13</th>\n",
              "      <th>...</th>\n",
              "      <th>saldo_medio_var5_ult1</th>\n",
              "      <th>saldo_medio_var5_ult3</th>\n",
              "      <th>saldo_medio_var8_hace2</th>\n",
              "      <th>saldo_medio_var8_hace3</th>\n",
              "      <th>saldo_medio_var8_ult1</th>\n",
              "      <th>saldo_medio_var8_ult3</th>\n",
              "      <th>saldo_medio_var12_hace2</th>\n",
              "      <th>saldo_medio_var12_hace3</th>\n",
              "      <th>saldo_medio_var12_ult1</th>\n",
              "      <th>saldo_medio_var12_ult3</th>\n",
              "      <th>saldo_medio_var13_corto_hace2</th>\n",
              "      <th>saldo_medio_var13_corto_hace3</th>\n",
              "      <th>saldo_medio_var13_corto_ult1</th>\n",
              "      <th>saldo_medio_var13_corto_ult3</th>\n",
              "      <th>saldo_medio_var13_largo_hace2</th>\n",
              "      <th>saldo_medio_var13_largo_hace3</th>\n",
              "      <th>saldo_medio_var13_largo_ult1</th>\n",
              "      <th>saldo_medio_var13_largo_ult3</th>\n",
              "      <th>saldo_medio_var13_medio_hace2</th>\n",
              "      <th>saldo_medio_var13_medio_hace3</th>\n",
              "      <th>saldo_medio_var13_medio_ult1</th>\n",
              "      <th>saldo_medio_var13_medio_ult3</th>\n",
              "      <th>saldo_medio_var17_hace2</th>\n",
              "      <th>saldo_medio_var17_hace3</th>\n",
              "      <th>saldo_medio_var17_ult1</th>\n",
              "      <th>saldo_medio_var17_ult3</th>\n",
              "      <th>saldo_medio_var29_hace2</th>\n",
              "      <th>saldo_medio_var29_hace3</th>\n",
              "      <th>saldo_medio_var29_ult1</th>\n",
              "      <th>saldo_medio_var29_ult3</th>\n",
              "      <th>saldo_medio_var33_hace2</th>\n",
              "      <th>saldo_medio_var33_hace3</th>\n",
              "      <th>saldo_medio_var33_ult1</th>\n",
              "      <th>saldo_medio_var33_ult3</th>\n",
              "      <th>saldo_medio_var44_hace2</th>\n",
              "      <th>saldo_medio_var44_hace3</th>\n",
              "      <th>saldo_medio_var44_ult1</th>\n",
              "      <th>saldo_medio_var44_ult3</th>\n",
              "      <th>var38</th>\n",
              "      <th>TARGET</th>\n",
              "    </tr>\n",
              "  </thead>\n",
              "  <tbody>\n",
              "    <tr>\n",
              "      <th>0</th>\n",
              "      <td>1</td>\n",
              "      <td>2</td>\n",
              "      <td>23</td>\n",
              "      <td>0.0</td>\n",
              "      <td>0.0</td>\n",
              "      <td>0.0</td>\n",
              "      <td>0.0</td>\n",
              "      <td>0.0</td>\n",
              "      <td>0.0</td>\n",
              "      <td>0.0</td>\n",
              "      <td>0.0</td>\n",
              "      <td>0.0</td>\n",
              "      <td>0.0</td>\n",
              "      <td>0.0</td>\n",
              "      <td>0.0</td>\n",
              "      <td>0.0</td>\n",
              "      <td>0.0</td>\n",
              "      <td>0.0</td>\n",
              "      <td>0.0</td>\n",
              "      <td>0.0</td>\n",
              "      <td>0</td>\n",
              "      <td>0</td>\n",
              "      <td>0</td>\n",
              "      <td>0</td>\n",
              "      <td>1</td>\n",
              "      <td>0</td>\n",
              "      <td>0</td>\n",
              "      <td>0</td>\n",
              "      <td>0</td>\n",
              "      <td>0</td>\n",
              "      <td>0</td>\n",
              "      <td>0</td>\n",
              "      <td>0</td>\n",
              "      <td>0</td>\n",
              "      <td>0</td>\n",
              "      <td>0</td>\n",
              "      <td>0</td>\n",
              "      <td>0</td>\n",
              "      <td>0</td>\n",
              "      <td>0</td>\n",
              "      <td>...</td>\n",
              "      <td>0.00</td>\n",
              "      <td>0.00</td>\n",
              "      <td>0.0</td>\n",
              "      <td>0.0</td>\n",
              "      <td>0.0</td>\n",
              "      <td>0.0</td>\n",
              "      <td>0.0</td>\n",
              "      <td>0.0</td>\n",
              "      <td>0.00</td>\n",
              "      <td>0.00</td>\n",
              "      <td>0.0</td>\n",
              "      <td>0.00</td>\n",
              "      <td>0.0</td>\n",
              "      <td>0.00</td>\n",
              "      <td>0.0</td>\n",
              "      <td>0.0</td>\n",
              "      <td>0.0</td>\n",
              "      <td>0.0</td>\n",
              "      <td>0.0</td>\n",
              "      <td>0</td>\n",
              "      <td>0</td>\n",
              "      <td>0.0</td>\n",
              "      <td>0.0</td>\n",
              "      <td>0.0</td>\n",
              "      <td>0.0</td>\n",
              "      <td>0.0</td>\n",
              "      <td>0.0</td>\n",
              "      <td>0.0</td>\n",
              "      <td>0.0</td>\n",
              "      <td>0.0</td>\n",
              "      <td>0.0</td>\n",
              "      <td>0.0</td>\n",
              "      <td>0.0</td>\n",
              "      <td>0.0</td>\n",
              "      <td>0.0</td>\n",
              "      <td>0.0</td>\n",
              "      <td>0.0</td>\n",
              "      <td>0.0</td>\n",
              "      <td>39205.170000</td>\n",
              "      <td>0</td>\n",
              "    </tr>\n",
              "    <tr>\n",
              "      <th>1</th>\n",
              "      <td>3</td>\n",
              "      <td>2</td>\n",
              "      <td>34</td>\n",
              "      <td>0.0</td>\n",
              "      <td>0.0</td>\n",
              "      <td>0.0</td>\n",
              "      <td>0.0</td>\n",
              "      <td>0.0</td>\n",
              "      <td>0.0</td>\n",
              "      <td>0.0</td>\n",
              "      <td>0.0</td>\n",
              "      <td>0.0</td>\n",
              "      <td>0.0</td>\n",
              "      <td>0.0</td>\n",
              "      <td>0.0</td>\n",
              "      <td>0.0</td>\n",
              "      <td>0.0</td>\n",
              "      <td>0.0</td>\n",
              "      <td>0.0</td>\n",
              "      <td>0.0</td>\n",
              "      <td>0</td>\n",
              "      <td>0</td>\n",
              "      <td>0</td>\n",
              "      <td>0</td>\n",
              "      <td>1</td>\n",
              "      <td>0</td>\n",
              "      <td>0</td>\n",
              "      <td>0</td>\n",
              "      <td>0</td>\n",
              "      <td>0</td>\n",
              "      <td>0</td>\n",
              "      <td>0</td>\n",
              "      <td>1</td>\n",
              "      <td>1</td>\n",
              "      <td>1</td>\n",
              "      <td>0</td>\n",
              "      <td>0</td>\n",
              "      <td>0</td>\n",
              "      <td>0</td>\n",
              "      <td>1</td>\n",
              "      <td>...</td>\n",
              "      <td>0.00</td>\n",
              "      <td>0.00</td>\n",
              "      <td>0.0</td>\n",
              "      <td>0.0</td>\n",
              "      <td>0.0</td>\n",
              "      <td>0.0</td>\n",
              "      <td>0.0</td>\n",
              "      <td>0.0</td>\n",
              "      <td>0.00</td>\n",
              "      <td>0.00</td>\n",
              "      <td>300.0</td>\n",
              "      <td>122.22</td>\n",
              "      <td>300.0</td>\n",
              "      <td>240.75</td>\n",
              "      <td>0.0</td>\n",
              "      <td>0.0</td>\n",
              "      <td>0.0</td>\n",
              "      <td>0.0</td>\n",
              "      <td>0.0</td>\n",
              "      <td>0</td>\n",
              "      <td>0</td>\n",
              "      <td>0.0</td>\n",
              "      <td>0.0</td>\n",
              "      <td>0.0</td>\n",
              "      <td>0.0</td>\n",
              "      <td>0.0</td>\n",
              "      <td>0.0</td>\n",
              "      <td>0.0</td>\n",
              "      <td>0.0</td>\n",
              "      <td>0.0</td>\n",
              "      <td>0.0</td>\n",
              "      <td>0.0</td>\n",
              "      <td>0.0</td>\n",
              "      <td>0.0</td>\n",
              "      <td>0.0</td>\n",
              "      <td>0.0</td>\n",
              "      <td>0.0</td>\n",
              "      <td>0.0</td>\n",
              "      <td>49278.030000</td>\n",
              "      <td>0</td>\n",
              "    </tr>\n",
              "    <tr>\n",
              "      <th>2</th>\n",
              "      <td>4</td>\n",
              "      <td>2</td>\n",
              "      <td>23</td>\n",
              "      <td>0.0</td>\n",
              "      <td>0.0</td>\n",
              "      <td>0.0</td>\n",
              "      <td>0.0</td>\n",
              "      <td>0.0</td>\n",
              "      <td>0.0</td>\n",
              "      <td>0.0</td>\n",
              "      <td>0.0</td>\n",
              "      <td>0.0</td>\n",
              "      <td>0.0</td>\n",
              "      <td>0.0</td>\n",
              "      <td>0.0</td>\n",
              "      <td>0.0</td>\n",
              "      <td>0.0</td>\n",
              "      <td>0.0</td>\n",
              "      <td>0.0</td>\n",
              "      <td>0.0</td>\n",
              "      <td>0</td>\n",
              "      <td>0</td>\n",
              "      <td>0</td>\n",
              "      <td>0</td>\n",
              "      <td>1</td>\n",
              "      <td>1</td>\n",
              "      <td>0</td>\n",
              "      <td>0</td>\n",
              "      <td>0</td>\n",
              "      <td>0</td>\n",
              "      <td>0</td>\n",
              "      <td>0</td>\n",
              "      <td>0</td>\n",
              "      <td>0</td>\n",
              "      <td>0</td>\n",
              "      <td>0</td>\n",
              "      <td>0</td>\n",
              "      <td>0</td>\n",
              "      <td>0</td>\n",
              "      <td>0</td>\n",
              "      <td>...</td>\n",
              "      <td>3.00</td>\n",
              "      <td>2.07</td>\n",
              "      <td>0.0</td>\n",
              "      <td>0.0</td>\n",
              "      <td>0.0</td>\n",
              "      <td>0.0</td>\n",
              "      <td>0.0</td>\n",
              "      <td>0.0</td>\n",
              "      <td>0.00</td>\n",
              "      <td>0.00</td>\n",
              "      <td>0.0</td>\n",
              "      <td>0.00</td>\n",
              "      <td>0.0</td>\n",
              "      <td>0.00</td>\n",
              "      <td>0.0</td>\n",
              "      <td>0.0</td>\n",
              "      <td>0.0</td>\n",
              "      <td>0.0</td>\n",
              "      <td>0.0</td>\n",
              "      <td>0</td>\n",
              "      <td>0</td>\n",
              "      <td>0.0</td>\n",
              "      <td>0.0</td>\n",
              "      <td>0.0</td>\n",
              "      <td>0.0</td>\n",
              "      <td>0.0</td>\n",
              "      <td>0.0</td>\n",
              "      <td>0.0</td>\n",
              "      <td>0.0</td>\n",
              "      <td>0.0</td>\n",
              "      <td>0.0</td>\n",
              "      <td>0.0</td>\n",
              "      <td>0.0</td>\n",
              "      <td>0.0</td>\n",
              "      <td>0.0</td>\n",
              "      <td>0.0</td>\n",
              "      <td>0.0</td>\n",
              "      <td>0.0</td>\n",
              "      <td>67333.770000</td>\n",
              "      <td>0</td>\n",
              "    </tr>\n",
              "    <tr>\n",
              "      <th>3</th>\n",
              "      <td>8</td>\n",
              "      <td>2</td>\n",
              "      <td>37</td>\n",
              "      <td>0.0</td>\n",
              "      <td>195.0</td>\n",
              "      <td>195.0</td>\n",
              "      <td>0.0</td>\n",
              "      <td>0.0</td>\n",
              "      <td>0.0</td>\n",
              "      <td>0.0</td>\n",
              "      <td>0.0</td>\n",
              "      <td>195.0</td>\n",
              "      <td>195.0</td>\n",
              "      <td>0.0</td>\n",
              "      <td>0.0</td>\n",
              "      <td>195.0</td>\n",
              "      <td>0.0</td>\n",
              "      <td>0.0</td>\n",
              "      <td>195.0</td>\n",
              "      <td>0.0</td>\n",
              "      <td>0</td>\n",
              "      <td>0</td>\n",
              "      <td>0</td>\n",
              "      <td>0</td>\n",
              "      <td>1</td>\n",
              "      <td>1</td>\n",
              "      <td>0</td>\n",
              "      <td>0</td>\n",
              "      <td>0</td>\n",
              "      <td>0</td>\n",
              "      <td>0</td>\n",
              "      <td>0</td>\n",
              "      <td>0</td>\n",
              "      <td>0</td>\n",
              "      <td>0</td>\n",
              "      <td>0</td>\n",
              "      <td>0</td>\n",
              "      <td>0</td>\n",
              "      <td>0</td>\n",
              "      <td>0</td>\n",
              "      <td>...</td>\n",
              "      <td>91.56</td>\n",
              "      <td>138.84</td>\n",
              "      <td>0.0</td>\n",
              "      <td>0.0</td>\n",
              "      <td>0.0</td>\n",
              "      <td>0.0</td>\n",
              "      <td>0.0</td>\n",
              "      <td>0.0</td>\n",
              "      <td>0.00</td>\n",
              "      <td>0.00</td>\n",
              "      <td>0.0</td>\n",
              "      <td>0.00</td>\n",
              "      <td>0.0</td>\n",
              "      <td>0.00</td>\n",
              "      <td>0.0</td>\n",
              "      <td>0.0</td>\n",
              "      <td>0.0</td>\n",
              "      <td>0.0</td>\n",
              "      <td>0.0</td>\n",
              "      <td>0</td>\n",
              "      <td>0</td>\n",
              "      <td>0.0</td>\n",
              "      <td>0.0</td>\n",
              "      <td>0.0</td>\n",
              "      <td>0.0</td>\n",
              "      <td>0.0</td>\n",
              "      <td>0.0</td>\n",
              "      <td>0.0</td>\n",
              "      <td>0.0</td>\n",
              "      <td>0.0</td>\n",
              "      <td>0.0</td>\n",
              "      <td>0.0</td>\n",
              "      <td>0.0</td>\n",
              "      <td>0.0</td>\n",
              "      <td>0.0</td>\n",
              "      <td>0.0</td>\n",
              "      <td>0.0</td>\n",
              "      <td>0.0</td>\n",
              "      <td>64007.970000</td>\n",
              "      <td>0</td>\n",
              "    </tr>\n",
              "    <tr>\n",
              "      <th>4</th>\n",
              "      <td>10</td>\n",
              "      <td>2</td>\n",
              "      <td>39</td>\n",
              "      <td>0.0</td>\n",
              "      <td>0.0</td>\n",
              "      <td>0.0</td>\n",
              "      <td>0.0</td>\n",
              "      <td>0.0</td>\n",
              "      <td>0.0</td>\n",
              "      <td>0.0</td>\n",
              "      <td>0.0</td>\n",
              "      <td>0.0</td>\n",
              "      <td>0.0</td>\n",
              "      <td>0.0</td>\n",
              "      <td>0.0</td>\n",
              "      <td>0.0</td>\n",
              "      <td>0.0</td>\n",
              "      <td>0.0</td>\n",
              "      <td>0.0</td>\n",
              "      <td>0.0</td>\n",
              "      <td>0</td>\n",
              "      <td>0</td>\n",
              "      <td>0</td>\n",
              "      <td>0</td>\n",
              "      <td>1</td>\n",
              "      <td>0</td>\n",
              "      <td>0</td>\n",
              "      <td>0</td>\n",
              "      <td>0</td>\n",
              "      <td>0</td>\n",
              "      <td>1</td>\n",
              "      <td>1</td>\n",
              "      <td>0</td>\n",
              "      <td>0</td>\n",
              "      <td>0</td>\n",
              "      <td>0</td>\n",
              "      <td>0</td>\n",
              "      <td>0</td>\n",
              "      <td>0</td>\n",
              "      <td>0</td>\n",
              "      <td>...</td>\n",
              "      <td>40501.08</td>\n",
              "      <td>13501.47</td>\n",
              "      <td>0.0</td>\n",
              "      <td>0.0</td>\n",
              "      <td>0.0</td>\n",
              "      <td>0.0</td>\n",
              "      <td>0.0</td>\n",
              "      <td>0.0</td>\n",
              "      <td>85501.89</td>\n",
              "      <td>85501.89</td>\n",
              "      <td>0.0</td>\n",
              "      <td>0.00</td>\n",
              "      <td>0.0</td>\n",
              "      <td>0.00</td>\n",
              "      <td>0.0</td>\n",
              "      <td>0.0</td>\n",
              "      <td>0.0</td>\n",
              "      <td>0.0</td>\n",
              "      <td>0.0</td>\n",
              "      <td>0</td>\n",
              "      <td>0</td>\n",
              "      <td>0.0</td>\n",
              "      <td>0.0</td>\n",
              "      <td>0.0</td>\n",
              "      <td>0.0</td>\n",
              "      <td>0.0</td>\n",
              "      <td>0.0</td>\n",
              "      <td>0.0</td>\n",
              "      <td>0.0</td>\n",
              "      <td>0.0</td>\n",
              "      <td>0.0</td>\n",
              "      <td>0.0</td>\n",
              "      <td>0.0</td>\n",
              "      <td>0.0</td>\n",
              "      <td>0.0</td>\n",
              "      <td>0.0</td>\n",
              "      <td>0.0</td>\n",
              "      <td>0.0</td>\n",
              "      <td>117310.979016</td>\n",
              "      <td>0</td>\n",
              "    </tr>\n",
              "  </tbody>\n",
              "</table>\n",
              "<p>5 rows × 371 columns</p>\n",
              "</div>"
            ],
            "text/plain": [
              "   ID  var3  var15  ...  saldo_medio_var44_ult3          var38  TARGET\n",
              "0   1     2     23  ...                     0.0   39205.170000       0\n",
              "1   3     2     34  ...                     0.0   49278.030000       0\n",
              "2   4     2     23  ...                     0.0   67333.770000       0\n",
              "3   8     2     37  ...                     0.0   64007.970000       0\n",
              "4  10     2     39  ...                     0.0  117310.979016       0\n",
              "\n",
              "[5 rows x 371 columns]"
            ]
          },
          "metadata": {
            "tags": []
          },
          "execution_count": 56
        }
      ]
    },
    {
      "cell_type": "code",
      "metadata": {
        "colab": {
          "base_uri": "https://localhost:8080/"
        },
        "id": "n1szC8m4DjLy",
        "outputId": "00206835-a557-4636-948f-ae31b30766a1"
      },
      "source": [
        "X_train.columns"
      ],
      "execution_count": null,
      "outputs": [
        {
          "output_type": "execute_result",
          "data": {
            "text/plain": [
              "Index(['ID', 'var3', 'var15', 'imp_ent_var16_ult1', 'imp_op_var39_comer_ult1',\n",
              "       'imp_op_var39_comer_ult3', 'imp_op_var40_comer_ult1',\n",
              "       'imp_op_var40_comer_ult3', 'imp_op_var40_efect_ult1',\n",
              "       'imp_op_var40_efect_ult3',\n",
              "       ...\n",
              "       'saldo_medio_var33_hace2', 'saldo_medio_var33_hace3',\n",
              "       'saldo_medio_var33_ult1', 'saldo_medio_var33_ult3',\n",
              "       'saldo_medio_var44_hace2', 'saldo_medio_var44_hace3',\n",
              "       'saldo_medio_var44_ult1', 'saldo_medio_var44_ult3', 'var38', 'TARGET'],\n",
              "      dtype='object', length=371)"
            ]
          },
          "metadata": {
            "tags": []
          },
          "execution_count": 57
        }
      ]
    },
    {
      "cell_type": "code",
      "metadata": {
        "colab": {
          "base_uri": "https://localhost:8080/"
        },
        "id": "raI2sr-GDjLz",
        "outputId": "e7923e6d-4fdb-4bbf-b27f-15cd47732431"
      },
      "source": [
        "#checkin for null values\n",
        "X_train.isnull().sum().any()"
      ],
      "execution_count": null,
      "outputs": [
        {
          "output_type": "execute_result",
          "data": {
            "text/plain": [
              "False"
            ]
          },
          "metadata": {
            "tags": []
          },
          "execution_count": 58
        }
      ]
    },
    {
      "cell_type": "code",
      "metadata": {
        "id": "_eh4JM0YDjLz"
      },
      "source": [
        "# drop ID label from X_train\n",
        "X_train.drop(['ID'],axis=1,inplace=True)"
      ],
      "execution_count": null,
      "outputs": []
    },
    {
      "cell_type": "code",
      "metadata": {
        "id": "qJvTKeABrW-D"
      },
      "source": [
        "# drop TARGET label from X_train\n",
        "X_train.drop(['TARGET'],axis=1,inplace=True)"
      ],
      "execution_count": null,
      "outputs": []
    },
    {
      "cell_type": "markdown",
      "metadata": {
        "id": "ir9wWpNa3rwt"
      },
      "source": [
        "## EDA cum Data Preprocessing"
      ]
    },
    {
      "cell_type": "code",
      "metadata": {
        "colab": {
          "base_uri": "https://localhost:8080/"
        },
        "id": "x7jFNd3RDjL0",
        "outputId": "13546c7b-c2b0-44a1-f6c5-0e192c6bf0c9"
      },
      "source": [
        "X_train.columns"
      ],
      "execution_count": null,
      "outputs": [
        {
          "output_type": "execute_result",
          "data": {
            "text/plain": [
              "Index(['var3', 'var15', 'imp_ent_var16_ult1', 'imp_op_var39_comer_ult1',\n",
              "       'imp_op_var39_comer_ult3', 'imp_op_var40_comer_ult1',\n",
              "       'imp_op_var40_comer_ult3', 'imp_op_var40_efect_ult1',\n",
              "       'imp_op_var40_efect_ult3', 'imp_op_var40_ult1',\n",
              "       ...\n",
              "       'saldo_medio_var29_ult3', 'saldo_medio_var33_hace2',\n",
              "       'saldo_medio_var33_hace3', 'saldo_medio_var33_ult1',\n",
              "       'saldo_medio_var33_ult3', 'saldo_medio_var44_hace2',\n",
              "       'saldo_medio_var44_hace3', 'saldo_medio_var44_ult1',\n",
              "       'saldo_medio_var44_ult3', 'var38'],\n",
              "      dtype='object', length=369)"
            ]
          },
          "metadata": {
            "tags": []
          },
          "execution_count": 61
        }
      ]
    },
    {
      "cell_type": "code",
      "metadata": {
        "colab": {
          "base_uri": "https://localhost:8080/"
        },
        "id": "87pWB4JuDjL0",
        "outputId": "d2e1ce1d-15b6-4c8f-fddc-6537f838b42d"
      },
      "source": [
        "#counting number of each classes in train set\n",
        "target.value_counts()"
      ],
      "execution_count": null,
      "outputs": [
        {
          "output_type": "execute_result",
          "data": {
            "text/plain": [
              "0    73012\n",
              "1     3008\n",
              "Name: TARGET, dtype: int64"
            ]
          },
          "metadata": {
            "tags": []
          },
          "execution_count": 62
        }
      ]
    },
    {
      "cell_type": "code",
      "metadata": {
        "colab": {
          "base_uri": "https://localhost:8080/",
          "height": 334
        },
        "id": "wK8Ye0APDjL1",
        "outputId": "a189d1a0-59d4-423b-df4b-a557355181a2"
      },
      "source": [
        "#Plotting number of each classes in train setplt.figure(dpi=100)\n",
        "sns.set_style('darkgrid')\n",
        "sns.countplot(target, data=target)\n",
        "plt.xlabel('target')\n",
        "plt.ylabel('Count')\n",
        "plt.xticks([0,1],['Satisfied','Not Satisfied'])\n",
        "plt.show()"
      ],
      "execution_count": null,
      "outputs": [
        {
          "output_type": "stream",
          "text": [
            "/usr/local/lib/python3.7/dist-packages/seaborn/_decorators.py:43: FutureWarning: Pass the following variable as a keyword arg: x. From version 0.12, the only valid positional argument will be `data`, and passing other arguments without an explicit keyword will result in an error or misinterpretation.\n",
            "  FutureWarning\n"
          ],
          "name": "stderr"
        },
        {
          "output_type": "display_data",
          "data": {
            "image/png": "[encoded data removed]",
            "text/plain": [
              "<Figure size 432x288 with 1 Axes>"
            ]
          },
          "metadata": {
            "tags": []
          }
        }
      ]
    },
    {
      "cell_type": "markdown",
      "metadata": {
        "id": "oaDJDP6eDjL1"
      },
      "source": [
        "As shown above, target in the train set is not balanced. So we are going to upsample"
      ]
    },
    {
      "cell_type": "code",
      "metadata": {
        "colab": {
          "base_uri": "https://localhost:8080/"
        },
        "id": "_BYf2WavsHyj",
        "outputId": "da563fc8-3756-4b96-fa10-4c716f08e3b1"
      },
      "source": [
        "X_train.shape"
      ],
      "execution_count": null,
      "outputs": [
        {
          "output_type": "execute_result",
          "data": {
            "text/plain": [
              "(76020, 369)"
            ]
          },
          "metadata": {
            "tags": []
          },
          "execution_count": 64
        }
      ]
    },
    {
      "cell_type": "code",
      "metadata": {
        "colab": {
          "base_uri": "https://localhost:8080/",
          "height": 343
        },
        "id": "6aihQYO0DjL2",
        "outputId": "07d25125-a565-4848-e1e7-c9a13392b32a"
      },
      "source": [
        "X_train.describe()"
      ],
      "execution_count": null,
      "outputs": [
        {
          "output_type": "execute_result",
          "data": {
            "text/html": [
              "<div>\n",
              "<style scoped>\n",
              "    .dataframe tbody tr th:only-of-type {\n",
              "        vertical-align: middle;\n",
              "    }\n",
              "\n",
              "    .dataframe tbody tr th {\n",
              "        vertical-align: top;\n",
              "    }\n",
              "\n",
              "    .dataframe thead th {\n",
              "        text-align: right;\n",
              "    }\n",
              "</style>\n",
              "<table border=\"1\" class=\"dataframe\">\n",
              "  <thead>\n",
              "    <tr style=\"text-align: right;\">\n",
              "      <th></th>\n",
              "      <th>var3</th>\n",
              "      <th>var15</th>\n",
              "      <th>imp_ent_var16_ult1</th>\n",
              "      <th>imp_op_var39_comer_ult1</th>\n",
              "      <th>imp_op_var39_comer_ult3</th>\n",
              "      <th>imp_op_var40_comer_ult1</th>\n",
              "      <th>imp_op_var40_comer_ult3</th>\n",
              "      <th>imp_op_var40_efect_ult1</th>\n",
              "      <th>imp_op_var40_efect_ult3</th>\n",
              "      <th>imp_op_var40_ult1</th>\n",
              "      <th>imp_op_var41_comer_ult1</th>\n",
              "      <th>imp_op_var41_comer_ult3</th>\n",
              "      <th>imp_op_var41_efect_ult1</th>\n",
              "      <th>imp_op_var41_efect_ult3</th>\n",
              "      <th>imp_op_var41_ult1</th>\n",
              "      <th>imp_op_var39_efect_ult1</th>\n",
              "      <th>imp_op_var39_efect_ult3</th>\n",
              "      <th>imp_op_var39_ult1</th>\n",
              "      <th>imp_sal_var16_ult1</th>\n",
              "      <th>ind_var1_0</th>\n",
              "      <th>ind_var1</th>\n",
              "      <th>ind_var2_0</th>\n",
              "      <th>ind_var2</th>\n",
              "      <th>ind_var5_0</th>\n",
              "      <th>ind_var5</th>\n",
              "      <th>ind_var6_0</th>\n",
              "      <th>ind_var6</th>\n",
              "      <th>ind_var8_0</th>\n",
              "      <th>ind_var8</th>\n",
              "      <th>ind_var12_0</th>\n",
              "      <th>ind_var12</th>\n",
              "      <th>ind_var13_0</th>\n",
              "      <th>ind_var13_corto_0</th>\n",
              "      <th>ind_var13_corto</th>\n",
              "      <th>ind_var13_largo_0</th>\n",
              "      <th>ind_var13_largo</th>\n",
              "      <th>ind_var13_medio_0</th>\n",
              "      <th>ind_var13_medio</th>\n",
              "      <th>ind_var13</th>\n",
              "      <th>ind_var14_0</th>\n",
              "      <th>...</th>\n",
              "      <th>saldo_medio_var5_hace3</th>\n",
              "      <th>saldo_medio_var5_ult1</th>\n",
              "      <th>saldo_medio_var5_ult3</th>\n",
              "      <th>saldo_medio_var8_hace2</th>\n",
              "      <th>saldo_medio_var8_hace3</th>\n",
              "      <th>saldo_medio_var8_ult1</th>\n",
              "      <th>saldo_medio_var8_ult3</th>\n",
              "      <th>saldo_medio_var12_hace2</th>\n",
              "      <th>saldo_medio_var12_hace3</th>\n",
              "      <th>saldo_medio_var12_ult1</th>\n",
              "      <th>saldo_medio_var12_ult3</th>\n",
              "      <th>saldo_medio_var13_corto_hace2</th>\n",
              "      <th>saldo_medio_var13_corto_hace3</th>\n",
              "      <th>saldo_medio_var13_corto_ult1</th>\n",
              "      <th>saldo_medio_var13_corto_ult3</th>\n",
              "      <th>saldo_medio_var13_largo_hace2</th>\n",
              "      <th>saldo_medio_var13_largo_hace3</th>\n",
              "      <th>saldo_medio_var13_largo_ult1</th>\n",
              "      <th>saldo_medio_var13_largo_ult3</th>\n",
              "      <th>saldo_medio_var13_medio_hace2</th>\n",
              "      <th>saldo_medio_var13_medio_hace3</th>\n",
              "      <th>saldo_medio_var13_medio_ult1</th>\n",
              "      <th>saldo_medio_var13_medio_ult3</th>\n",
              "      <th>saldo_medio_var17_hace2</th>\n",
              "      <th>saldo_medio_var17_hace3</th>\n",
              "      <th>saldo_medio_var17_ult1</th>\n",
              "      <th>saldo_medio_var17_ult3</th>\n",
              "      <th>saldo_medio_var29_hace2</th>\n",
              "      <th>saldo_medio_var29_hace3</th>\n",
              "      <th>saldo_medio_var29_ult1</th>\n",
              "      <th>saldo_medio_var29_ult3</th>\n",
              "      <th>saldo_medio_var33_hace2</th>\n",
              "      <th>saldo_medio_var33_hace3</th>\n",
              "      <th>saldo_medio_var33_ult1</th>\n",
              "      <th>saldo_medio_var33_ult3</th>\n",
              "      <th>saldo_medio_var44_hace2</th>\n",
              "      <th>saldo_medio_var44_hace3</th>\n",
              "      <th>saldo_medio_var44_ult1</th>\n",
              "      <th>saldo_medio_var44_ult3</th>\n",
              "      <th>var38</th>\n",
              "    </tr>\n",
              "  </thead>\n",
              "  <tbody>\n",
              "    <tr>\n",
              "      <th>count</th>\n",
              "      <td>76020.000000</td>\n",
              "      <td>76020.000000</td>\n",
              "      <td>76020.000000</td>\n",
              "      <td>76020.000000</td>\n",
              "      <td>76020.000000</td>\n",
              "      <td>76020.000000</td>\n",
              "      <td>76020.000000</td>\n",
              "      <td>76020.000000</td>\n",
              "      <td>76020.000000</td>\n",
              "      <td>76020.000000</td>\n",
              "      <td>76020.000000</td>\n",
              "      <td>76020.000000</td>\n",
              "      <td>76020.000000</td>\n",
              "      <td>76020.000000</td>\n",
              "      <td>76020.000000</td>\n",
              "      <td>76020.000000</td>\n",
              "      <td>76020.000000</td>\n",
              "      <td>76020.000000</td>\n",
              "      <td>76020.000000</td>\n",
              "      <td>76020.000000</td>\n",
              "      <td>76020.000000</td>\n",
              "      <td>76020.0</td>\n",
              "      <td>76020.0</td>\n",
              "      <td>76020.000000</td>\n",
              "      <td>76020.000000</td>\n",
              "      <td>76020.000000</td>\n",
              "      <td>76020.000000</td>\n",
              "      <td>76020.000000</td>\n",
              "      <td>76020.000000</td>\n",
              "      <td>76020.000000</td>\n",
              "      <td>76020.000000</td>\n",
              "      <td>76020.000000</td>\n",
              "      <td>76020.000000</td>\n",
              "      <td>76020.000000</td>\n",
              "      <td>76020.000000</td>\n",
              "      <td>76020.000000</td>\n",
              "      <td>76020.000000</td>\n",
              "      <td>76020.000000</td>\n",
              "      <td>76020.000000</td>\n",
              "      <td>76020.000000</td>\n",
              "      <td>...</td>\n",
              "      <td>7.602000e+04</td>\n",
              "      <td>76020.000000</td>\n",
              "      <td>76020.000000</td>\n",
              "      <td>76020.000000</td>\n",
              "      <td>76020.000000</td>\n",
              "      <td>76020.000000</td>\n",
              "      <td>76020.000000</td>\n",
              "      <td>7.602000e+04</td>\n",
              "      <td>76020.000000</td>\n",
              "      <td>7.602000e+04</td>\n",
              "      <td>7.602000e+04</td>\n",
              "      <td>76020.000000</td>\n",
              "      <td>76020.000000</td>\n",
              "      <td>76020.000000</td>\n",
              "      <td>76020.000000</td>\n",
              "      <td>76020.000000</td>\n",
              "      <td>76020.000000</td>\n",
              "      <td>7.602000e+04</td>\n",
              "      <td>7.602000e+04</td>\n",
              "      <td>76020.000000</td>\n",
              "      <td>76020.0</td>\n",
              "      <td>76020.000000</td>\n",
              "      <td>76020.000000</td>\n",
              "      <td>7.602000e+04</td>\n",
              "      <td>7.602000e+04</td>\n",
              "      <td>7.602000e+04</td>\n",
              "      <td>7.602000e+04</td>\n",
              "      <td>76020.000000</td>\n",
              "      <td>76020.000000</td>\n",
              "      <td>76020.000000</td>\n",
              "      <td>76020.000000</td>\n",
              "      <td>76020.000000</td>\n",
              "      <td>76020.000000</td>\n",
              "      <td>76020.000000</td>\n",
              "      <td>76020.000000</td>\n",
              "      <td>76020.000000</td>\n",
              "      <td>76020.000000</td>\n",
              "      <td>76020.000000</td>\n",
              "      <td>76020.000000</td>\n",
              "      <td>7.602000e+04</td>\n",
              "    </tr>\n",
              "    <tr>\n",
              "      <th>mean</th>\n",
              "      <td>-1523.199277</td>\n",
              "      <td>33.212865</td>\n",
              "      <td>86.208265</td>\n",
              "      <td>72.363067</td>\n",
              "      <td>119.529632</td>\n",
              "      <td>3.559130</td>\n",
              "      <td>6.472698</td>\n",
              "      <td>0.412946</td>\n",
              "      <td>0.567352</td>\n",
              "      <td>3.160715</td>\n",
              "      <td>68.803937</td>\n",
              "      <td>113.056934</td>\n",
              "      <td>68.205140</td>\n",
              "      <td>113.225058</td>\n",
              "      <td>137.242763</td>\n",
              "      <td>68.618087</td>\n",
              "      <td>113.792410</td>\n",
              "      <td>140.403479</td>\n",
              "      <td>5.477676</td>\n",
              "      <td>0.011458</td>\n",
              "      <td>0.003762</td>\n",
              "      <td>0.0</td>\n",
              "      <td>0.0</td>\n",
              "      <td>0.958024</td>\n",
              "      <td>0.663760</td>\n",
              "      <td>0.000105</td>\n",
              "      <td>0.000026</td>\n",
              "      <td>0.032833</td>\n",
              "      <td>0.028598</td>\n",
              "      <td>0.067522</td>\n",
              "      <td>0.045462</td>\n",
              "      <td>0.052249</td>\n",
              "      <td>0.042936</td>\n",
              "      <td>0.041476</td>\n",
              "      <td>0.010168</td>\n",
              "      <td>0.009997</td>\n",
              "      <td>0.000026</td>\n",
              "      <td>0.000026</td>\n",
              "      <td>0.050855</td>\n",
              "      <td>0.023652</td>\n",
              "      <td>...</td>\n",
              "      <td>8.913659e+02</td>\n",
              "      <td>1077.256756</td>\n",
              "      <td>1048.856447</td>\n",
              "      <td>68.275452</td>\n",
              "      <td>9.505287</td>\n",
              "      <td>124.620962</td>\n",
              "      <td>110.026575</td>\n",
              "      <td>3.997023e+03</td>\n",
              "      <td>613.534443</td>\n",
              "      <td>5.703008e+03</td>\n",
              "      <td>4.401002e+03</td>\n",
              "      <td>3639.419939</td>\n",
              "      <td>556.184178</td>\n",
              "      <td>4852.261814</td>\n",
              "      <td>3857.848542</td>\n",
              "      <td>771.227449</td>\n",
              "      <td>162.170439</td>\n",
              "      <td>9.569502e+02</td>\n",
              "      <td>7.509563e+02</td>\n",
              "      <td>0.175324</td>\n",
              "      <td>0.0</td>\n",
              "      <td>0.513023</td>\n",
              "      <td>0.344174</td>\n",
              "      <td>9.117181e+01</td>\n",
              "      <td>3.646318e+01</td>\n",
              "      <td>1.310316e+02</td>\n",
              "      <td>1.092169e+02</td>\n",
              "      <td>0.213071</td>\n",
              "      <td>0.001910</td>\n",
              "      <td>0.253907</td>\n",
              "      <td>0.186630</td>\n",
              "      <td>7.935824</td>\n",
              "      <td>1.365146</td>\n",
              "      <td>12.215580</td>\n",
              "      <td>8.784074</td>\n",
              "      <td>31.505324</td>\n",
              "      <td>1.858575</td>\n",
              "      <td>76.026165</td>\n",
              "      <td>56.614351</td>\n",
              "      <td>1.172358e+05</td>\n",
              "    </tr>\n",
              "    <tr>\n",
              "      <th>std</th>\n",
              "      <td>39033.462364</td>\n",
              "      <td>12.956486</td>\n",
              "      <td>1614.757313</td>\n",
              "      <td>339.315831</td>\n",
              "      <td>546.266294</td>\n",
              "      <td>93.155749</td>\n",
              "      <td>153.737066</td>\n",
              "      <td>30.604864</td>\n",
              "      <td>36.513513</td>\n",
              "      <td>95.268204</td>\n",
              "      <td>319.605516</td>\n",
              "      <td>512.154823</td>\n",
              "      <td>531.897917</td>\n",
              "      <td>950.086398</td>\n",
              "      <td>697.712596</td>\n",
              "      <td>535.473750</td>\n",
              "      <td>953.578624</td>\n",
              "      <td>712.767240</td>\n",
              "      <td>465.391149</td>\n",
              "      <td>0.106425</td>\n",
              "      <td>0.061221</td>\n",
              "      <td>0.0</td>\n",
              "      <td>0.0</td>\n",
              "      <td>0.200535</td>\n",
              "      <td>0.472425</td>\n",
              "      <td>0.010258</td>\n",
              "      <td>0.005129</td>\n",
              "      <td>0.178202</td>\n",
              "      <td>0.166674</td>\n",
              "      <td>0.250925</td>\n",
              "      <td>0.208316</td>\n",
              "      <td>0.222531</td>\n",
              "      <td>0.202714</td>\n",
              "      <td>0.199390</td>\n",
              "      <td>0.100325</td>\n",
              "      <td>0.099486</td>\n",
              "      <td>0.005129</td>\n",
              "      <td>0.005129</td>\n",
              "      <td>0.219703</td>\n",
              "      <td>0.151962</td>\n",
              "      <td>...</td>\n",
              "      <td>9.888597e+03</td>\n",
              "      <td>9614.906985</td>\n",
              "      <td>8189.948852</td>\n",
              "      <td>1733.838226</td>\n",
              "      <td>519.389157</td>\n",
              "      <td>2205.249804</td>\n",
              "      <td>1935.305713</td>\n",
              "      <td>3.777314e+04</td>\n",
              "      <td>9292.752726</td>\n",
              "      <td>4.620254e+04</td>\n",
              "      <td>3.550718e+04</td>\n",
              "      <td>26359.174223</td>\n",
              "      <td>7182.642532</td>\n",
              "      <td>31886.615189</td>\n",
              "      <td>25572.245055</td>\n",
              "      <td>13082.155867</td>\n",
              "      <td>4698.868075</td>\n",
              "      <td>1.600698e+04</td>\n",
              "      <td>1.242252e+04</td>\n",
              "      <td>34.625518</td>\n",
              "      <td>0.0</td>\n",
              "      <td>113.597559</td>\n",
              "      <td>73.376513</td>\n",
              "      <td>1.539248e+04</td>\n",
              "      <td>8.612395e+03</td>\n",
              "      <td>1.495653e+04</td>\n",
              "      <td>1.308216e+04</td>\n",
              "      <td>41.820444</td>\n",
              "      <td>0.526626</td>\n",
              "      <td>52.078775</td>\n",
              "      <td>31.879418</td>\n",
              "      <td>455.887218</td>\n",
              "      <td>113.959637</td>\n",
              "      <td>783.207399</td>\n",
              "      <td>538.439211</td>\n",
              "      <td>2013.125393</td>\n",
              "      <td>147.786584</td>\n",
              "      <td>4040.337842</td>\n",
              "      <td>2852.579397</td>\n",
              "      <td>1.826646e+05</td>\n",
              "    </tr>\n",
              "    <tr>\n",
              "      <th>min</th>\n",
              "      <td>-999999.000000</td>\n",
              "      <td>5.000000</td>\n",
              "      <td>0.000000</td>\n",
              "      <td>0.000000</td>\n",
              "      <td>0.000000</td>\n",
              "      <td>0.000000</td>\n",
              "      <td>0.000000</td>\n",
              "      <td>0.000000</td>\n",
              "      <td>0.000000</td>\n",
              "      <td>0.000000</td>\n",
              "      <td>0.000000</td>\n",
              "      <td>0.000000</td>\n",
              "      <td>0.000000</td>\n",
              "      <td>0.000000</td>\n",
              "      <td>0.000000</td>\n",
              "      <td>0.000000</td>\n",
              "      <td>0.000000</td>\n",
              "      <td>0.000000</td>\n",
              "      <td>0.000000</td>\n",
              "      <td>0.000000</td>\n",
              "      <td>0.000000</td>\n",
              "      <td>0.0</td>\n",
              "      <td>0.0</td>\n",
              "      <td>0.000000</td>\n",
              "      <td>0.000000</td>\n",
              "      <td>0.000000</td>\n",
              "      <td>0.000000</td>\n",
              "      <td>0.000000</td>\n",
              "      <td>0.000000</td>\n",
              "      <td>0.000000</td>\n",
              "      <td>0.000000</td>\n",
              "      <td>0.000000</td>\n",
              "      <td>0.000000</td>\n",
              "      <td>0.000000</td>\n",
              "      <td>0.000000</td>\n",
              "      <td>0.000000</td>\n",
              "      <td>0.000000</td>\n",
              "      <td>0.000000</td>\n",
              "      <td>0.000000</td>\n",
              "      <td>0.000000</td>\n",
              "      <td>...</td>\n",
              "      <td>-8.040000e+00</td>\n",
              "      <td>-922.380000</td>\n",
              "      <td>-476.070000</td>\n",
              "      <td>-287.670000</td>\n",
              "      <td>0.000000</td>\n",
              "      <td>-3401.340000</td>\n",
              "      <td>-1844.520000</td>\n",
              "      <td>0.000000e+00</td>\n",
              "      <td>0.000000</td>\n",
              "      <td>0.000000e+00</td>\n",
              "      <td>0.000000e+00</td>\n",
              "      <td>0.000000</td>\n",
              "      <td>0.000000</td>\n",
              "      <td>0.000000</td>\n",
              "      <td>0.000000</td>\n",
              "      <td>0.000000</td>\n",
              "      <td>0.000000</td>\n",
              "      <td>0.000000e+00</td>\n",
              "      <td>0.000000e+00</td>\n",
              "      <td>0.000000</td>\n",
              "      <td>0.0</td>\n",
              "      <td>0.000000</td>\n",
              "      <td>0.000000</td>\n",
              "      <td>-3.000000e-02</td>\n",
              "      <td>0.000000e+00</td>\n",
              "      <td>0.000000e+00</td>\n",
              "      <td>0.000000e+00</td>\n",
              "      <td>0.000000</td>\n",
              "      <td>0.000000</td>\n",
              "      <td>0.000000</td>\n",
              "      <td>0.000000</td>\n",
              "      <td>0.000000</td>\n",
              "      <td>0.000000</td>\n",
              "      <td>0.000000</td>\n",
              "      <td>0.000000</td>\n",
              "      <td>0.000000</td>\n",
              "      <td>0.000000</td>\n",
              "      <td>0.000000</td>\n",
              "      <td>0.000000</td>\n",
              "      <td>5.163750e+03</td>\n",
              "    </tr>\n",
              "    <tr>\n",
              "      <th>25%</th>\n",
              "      <td>2.000000</td>\n",
              "      <td>23.000000</td>\n",
              "      <td>0.000000</td>\n",
              "      <td>0.000000</td>\n",
              "      <td>0.000000</td>\n",
              "      <td>0.000000</td>\n",
              "      <td>0.000000</td>\n",
              "      <td>0.000000</td>\n",
              "      <td>0.000000</td>\n",
              "      <td>0.000000</td>\n",
              "      <td>0.000000</td>\n",
              "      <td>0.000000</td>\n",
              "      <td>0.000000</td>\n",
              "      <td>0.000000</td>\n",
              "      <td>0.000000</td>\n",
              "      <td>0.000000</td>\n",
              "      <td>0.000000</td>\n",
              "      <td>0.000000</td>\n",
              "      <td>0.000000</td>\n",
              "      <td>0.000000</td>\n",
              "      <td>0.000000</td>\n",
              "      <td>0.0</td>\n",
              "      <td>0.0</td>\n",
              "      <td>1.000000</td>\n",
              "      <td>0.000000</td>\n",
              "      <td>0.000000</td>\n",
              "      <td>0.000000</td>\n",
              "      <td>0.000000</td>\n",
              "      <td>0.000000</td>\n",
              "      <td>0.000000</td>\n",
              "      <td>0.000000</td>\n",
              "      <td>0.000000</td>\n",
              "      <td>0.000000</td>\n",
              "      <td>0.000000</td>\n",
              "      <td>0.000000</td>\n",
              "      <td>0.000000</td>\n",
              "      <td>0.000000</td>\n",
              "      <td>0.000000</td>\n",
              "      <td>0.000000</td>\n",
              "      <td>0.000000</td>\n",
              "      <td>...</td>\n",
              "      <td>0.000000e+00</td>\n",
              "      <td>0.000000</td>\n",
              "      <td>0.000000</td>\n",
              "      <td>0.000000</td>\n",
              "      <td>0.000000</td>\n",
              "      <td>0.000000</td>\n",
              "      <td>0.000000</td>\n",
              "      <td>0.000000e+00</td>\n",
              "      <td>0.000000</td>\n",
              "      <td>0.000000e+00</td>\n",
              "      <td>0.000000e+00</td>\n",
              "      <td>0.000000</td>\n",
              "      <td>0.000000</td>\n",
              "      <td>0.000000</td>\n",
              "      <td>0.000000</td>\n",
              "      <td>0.000000</td>\n",
              "      <td>0.000000</td>\n",
              "      <td>0.000000e+00</td>\n",
              "      <td>0.000000e+00</td>\n",
              "      <td>0.000000</td>\n",
              "      <td>0.0</td>\n",
              "      <td>0.000000</td>\n",
              "      <td>0.000000</td>\n",
              "      <td>0.000000e+00</td>\n",
              "      <td>0.000000e+00</td>\n",
              "      <td>0.000000e+00</td>\n",
              "      <td>0.000000e+00</td>\n",
              "      <td>0.000000</td>\n",
              "      <td>0.000000</td>\n",
              "      <td>0.000000</td>\n",
              "      <td>0.000000</td>\n",
              "      <td>0.000000</td>\n",
              "      <td>0.000000</td>\n",
              "      <td>0.000000</td>\n",
              "      <td>0.000000</td>\n",
              "      <td>0.000000</td>\n",
              "      <td>0.000000</td>\n",
              "      <td>0.000000</td>\n",
              "      <td>0.000000</td>\n",
              "      <td>6.787061e+04</td>\n",
              "    </tr>\n",
              "    <tr>\n",
              "      <th>50%</th>\n",
              "      <td>2.000000</td>\n",
              "      <td>28.000000</td>\n",
              "      <td>0.000000</td>\n",
              "      <td>0.000000</td>\n",
              "      <td>0.000000</td>\n",
              "      <td>0.000000</td>\n",
              "      <td>0.000000</td>\n",
              "      <td>0.000000</td>\n",
              "      <td>0.000000</td>\n",
              "      <td>0.000000</td>\n",
              "      <td>0.000000</td>\n",
              "      <td>0.000000</td>\n",
              "      <td>0.000000</td>\n",
              "      <td>0.000000</td>\n",
              "      <td>0.000000</td>\n",
              "      <td>0.000000</td>\n",
              "      <td>0.000000</td>\n",
              "      <td>0.000000</td>\n",
              "      <td>0.000000</td>\n",
              "      <td>0.000000</td>\n",
              "      <td>0.000000</td>\n",
              "      <td>0.0</td>\n",
              "      <td>0.0</td>\n",
              "      <td>1.000000</td>\n",
              "      <td>1.000000</td>\n",
              "      <td>0.000000</td>\n",
              "      <td>0.000000</td>\n",
              "      <td>0.000000</td>\n",
              "      <td>0.000000</td>\n",
              "      <td>0.000000</td>\n",
              "      <td>0.000000</td>\n",
              "      <td>0.000000</td>\n",
              "      <td>0.000000</td>\n",
              "      <td>0.000000</td>\n",
              "      <td>0.000000</td>\n",
              "      <td>0.000000</td>\n",
              "      <td>0.000000</td>\n",
              "      <td>0.000000</td>\n",
              "      <td>0.000000</td>\n",
              "      <td>0.000000</td>\n",
              "      <td>...</td>\n",
              "      <td>9.900000e-01</td>\n",
              "      <td>3.000000</td>\n",
              "      <td>2.730000</td>\n",
              "      <td>0.000000</td>\n",
              "      <td>0.000000</td>\n",
              "      <td>0.000000</td>\n",
              "      <td>0.000000</td>\n",
              "      <td>0.000000e+00</td>\n",
              "      <td>0.000000</td>\n",
              "      <td>0.000000e+00</td>\n",
              "      <td>0.000000e+00</td>\n",
              "      <td>0.000000</td>\n",
              "      <td>0.000000</td>\n",
              "      <td>0.000000</td>\n",
              "      <td>0.000000</td>\n",
              "      <td>0.000000</td>\n",
              "      <td>0.000000</td>\n",
              "      <td>0.000000e+00</td>\n",
              "      <td>0.000000e+00</td>\n",
              "      <td>0.000000</td>\n",
              "      <td>0.0</td>\n",
              "      <td>0.000000</td>\n",
              "      <td>0.000000</td>\n",
              "      <td>0.000000e+00</td>\n",
              "      <td>0.000000e+00</td>\n",
              "      <td>0.000000e+00</td>\n",
              "      <td>0.000000e+00</td>\n",
              "      <td>0.000000</td>\n",
              "      <td>0.000000</td>\n",
              "      <td>0.000000</td>\n",
              "      <td>0.000000</td>\n",
              "      <td>0.000000</td>\n",
              "      <td>0.000000</td>\n",
              "      <td>0.000000</td>\n",
              "      <td>0.000000</td>\n",
              "      <td>0.000000</td>\n",
              "      <td>0.000000</td>\n",
              "      <td>0.000000</td>\n",
              "      <td>0.000000</td>\n",
              "      <td>1.064092e+05</td>\n",
              "    </tr>\n",
              "    <tr>\n",
              "      <th>75%</th>\n",
              "      <td>2.000000</td>\n",
              "      <td>40.000000</td>\n",
              "      <td>0.000000</td>\n",
              "      <td>0.000000</td>\n",
              "      <td>0.000000</td>\n",
              "      <td>0.000000</td>\n",
              "      <td>0.000000</td>\n",
              "      <td>0.000000</td>\n",
              "      <td>0.000000</td>\n",
              "      <td>0.000000</td>\n",
              "      <td>0.000000</td>\n",
              "      <td>0.000000</td>\n",
              "      <td>0.000000</td>\n",
              "      <td>0.000000</td>\n",
              "      <td>0.000000</td>\n",
              "      <td>0.000000</td>\n",
              "      <td>0.000000</td>\n",
              "      <td>0.000000</td>\n",
              "      <td>0.000000</td>\n",
              "      <td>0.000000</td>\n",
              "      <td>0.000000</td>\n",
              "      <td>0.0</td>\n",
              "      <td>0.0</td>\n",
              "      <td>1.000000</td>\n",
              "      <td>1.000000</td>\n",
              "      <td>0.000000</td>\n",
              "      <td>0.000000</td>\n",
              "      <td>0.000000</td>\n",
              "      <td>0.000000</td>\n",
              "      <td>0.000000</td>\n",
              "      <td>0.000000</td>\n",
              "      <td>0.000000</td>\n",
              "      <td>0.000000</td>\n",
              "      <td>0.000000</td>\n",
              "      <td>0.000000</td>\n",
              "      <td>0.000000</td>\n",
              "      <td>0.000000</td>\n",
              "      <td>0.000000</td>\n",
              "      <td>0.000000</td>\n",
              "      <td>0.000000</td>\n",
              "      <td>...</td>\n",
              "      <td>1.221750e+01</td>\n",
              "      <td>90.000000</td>\n",
              "      <td>83.790000</td>\n",
              "      <td>0.000000</td>\n",
              "      <td>0.000000</td>\n",
              "      <td>0.000000</td>\n",
              "      <td>0.000000</td>\n",
              "      <td>0.000000e+00</td>\n",
              "      <td>0.000000</td>\n",
              "      <td>0.000000e+00</td>\n",
              "      <td>0.000000e+00</td>\n",
              "      <td>0.000000</td>\n",
              "      <td>0.000000</td>\n",
              "      <td>0.000000</td>\n",
              "      <td>0.000000</td>\n",
              "      <td>0.000000</td>\n",
              "      <td>0.000000</td>\n",
              "      <td>0.000000e+00</td>\n",
              "      <td>0.000000e+00</td>\n",
              "      <td>0.000000</td>\n",
              "      <td>0.0</td>\n",
              "      <td>0.000000</td>\n",
              "      <td>0.000000</td>\n",
              "      <td>0.000000e+00</td>\n",
              "      <td>0.000000e+00</td>\n",
              "      <td>0.000000e+00</td>\n",
              "      <td>0.000000e+00</td>\n",
              "      <td>0.000000</td>\n",
              "      <td>0.000000</td>\n",
              "      <td>0.000000</td>\n",
              "      <td>0.000000</td>\n",
              "      <td>0.000000</td>\n",
              "      <td>0.000000</td>\n",
              "      <td>0.000000</td>\n",
              "      <td>0.000000</td>\n",
              "      <td>0.000000</td>\n",
              "      <td>0.000000</td>\n",
              "      <td>0.000000</td>\n",
              "      <td>0.000000</td>\n",
              "      <td>1.187563e+05</td>\n",
              "    </tr>\n",
              "    <tr>\n",
              "      <th>max</th>\n",
              "      <td>238.000000</td>\n",
              "      <td>105.000000</td>\n",
              "      <td>210000.000000</td>\n",
              "      <td>12888.030000</td>\n",
              "      <td>21024.810000</td>\n",
              "      <td>8237.820000</td>\n",
              "      <td>11073.570000</td>\n",
              "      <td>6600.000000</td>\n",
              "      <td>6600.000000</td>\n",
              "      <td>8237.820000</td>\n",
              "      <td>12888.030000</td>\n",
              "      <td>16566.810000</td>\n",
              "      <td>45990.000000</td>\n",
              "      <td>131100.000000</td>\n",
              "      <td>47598.090000</td>\n",
              "      <td>45990.000000</td>\n",
              "      <td>131100.000000</td>\n",
              "      <td>47598.090000</td>\n",
              "      <td>105000.000000</td>\n",
              "      <td>1.000000</td>\n",
              "      <td>1.000000</td>\n",
              "      <td>0.0</td>\n",
              "      <td>0.0</td>\n",
              "      <td>1.000000</td>\n",
              "      <td>1.000000</td>\n",
              "      <td>1.000000</td>\n",
              "      <td>1.000000</td>\n",
              "      <td>1.000000</td>\n",
              "      <td>1.000000</td>\n",
              "      <td>1.000000</td>\n",
              "      <td>1.000000</td>\n",
              "      <td>1.000000</td>\n",
              "      <td>1.000000</td>\n",
              "      <td>1.000000</td>\n",
              "      <td>1.000000</td>\n",
              "      <td>1.000000</td>\n",
              "      <td>1.000000</td>\n",
              "      <td>1.000000</td>\n",
              "      <td>1.000000</td>\n",
              "      <td>1.000000</td>\n",
              "      <td>...</td>\n",
              "      <td>1.542339e+06</td>\n",
              "      <td>601428.600000</td>\n",
              "      <td>544365.570000</td>\n",
              "      <td>231351.990000</td>\n",
              "      <td>77586.210000</td>\n",
              "      <td>228031.800000</td>\n",
              "      <td>177582.000000</td>\n",
              "      <td>3.000538e+06</td>\n",
              "      <td>668335.320000</td>\n",
              "      <td>3.004186e+06</td>\n",
              "      <td>2.272859e+06</td>\n",
              "      <td>450000.000000</td>\n",
              "      <td>304838.700000</td>\n",
              "      <td>450000.000000</td>\n",
              "      <td>450000.000000</td>\n",
              "      <td>840000.000000</td>\n",
              "      <td>534000.000000</td>\n",
              "      <td>1.500000e+06</td>\n",
              "      <td>1.034483e+06</td>\n",
              "      <td>7741.950000</td>\n",
              "      <td>0.0</td>\n",
              "      <td>30000.000000</td>\n",
              "      <td>18870.990000</td>\n",
              "      <td>4.210084e+06</td>\n",
              "      <td>2.368559e+06</td>\n",
              "      <td>3.998687e+06</td>\n",
              "      <td>3.525777e+06</td>\n",
              "      <td>10430.010000</td>\n",
              "      <td>145.200000</td>\n",
              "      <td>13793.670000</td>\n",
              "      <td>7331.340000</td>\n",
              "      <td>50003.880000</td>\n",
              "      <td>20385.720000</td>\n",
              "      <td>138831.630000</td>\n",
              "      <td>91778.730000</td>\n",
              "      <td>438329.220000</td>\n",
              "      <td>24650.010000</td>\n",
              "      <td>681462.900000</td>\n",
              "      <td>397884.300000</td>\n",
              "      <td>2.203474e+07</td>\n",
              "    </tr>\n",
              "  </tbody>\n",
              "</table>\n",
              "<p>8 rows × 369 columns</p>\n",
              "</div>"
            ],
            "text/plain": [
              "                var3         var15  ...  saldo_medio_var44_ult3         var38\n",
              "count   76020.000000  76020.000000  ...            76020.000000  7.602000e+04\n",
              "mean    -1523.199277     33.212865  ...               56.614351  1.172358e+05\n",
              "std     39033.462364     12.956486  ...             2852.579397  1.826646e+05\n",
              "min   -999999.000000      5.000000  ...                0.000000  5.163750e+03\n",
              "25%         2.000000     23.000000  ...                0.000000  6.787061e+04\n",
              "50%         2.000000     28.000000  ...                0.000000  1.064092e+05\n",
              "75%         2.000000     40.000000  ...                0.000000  1.187563e+05\n",
              "max       238.000000    105.000000  ...           397884.300000  2.203474e+07\n",
              "\n",
              "[8 rows x 369 columns]"
            ]
          },
          "metadata": {
            "tags": []
          },
          "execution_count": 65
        }
      ]
    },
    {
      "cell_type": "markdown",
      "metadata": {
        "id": "MKN0-MSs5twR"
      },
      "source": [
        "min of var3 is -999999, which means NaN or some exception value is replaced by -999999."
      ]
    },
    {
      "cell_type": "code",
      "metadata": {
        "colab": {
          "base_uri": "https://localhost:8080/"
        },
        "id": "mY3Vog-hDjL2",
        "outputId": "636f21e2-da90-40fe-cd0a-c75eead0875f"
      },
      "source": [
        "#counting number of -999999\n",
        "X_train['var3'].value_counts()"
      ],
      "execution_count": null,
      "outputs": [
        {
          "output_type": "execute_result",
          "data": {
            "text/plain": [
              " 2         74165\n",
              " 8           138\n",
              "-999999      116\n",
              " 9           110\n",
              " 3           108\n",
              "           ...  \n",
              " 177           1\n",
              " 87            1\n",
              " 151           1\n",
              " 215           1\n",
              " 191           1\n",
              "Name: var3, Length: 208, dtype: int64"
            ]
          },
          "metadata": {
            "tags": []
          },
          "execution_count": 66
        }
      ]
    },
    {
      "cell_type": "markdown",
      "metadata": {
        "id": "JxWWtJfqDjL2"
      },
      "source": [
        "Replacing -999999 with 2."
      ]
    },
    {
      "cell_type": "code",
      "metadata": {
        "colab": {
          "base_uri": "https://localhost:8080/"
        },
        "id": "sTtz6CPrDjL3",
        "outputId": "be90a1fe-405e-4362-cb73-8c47b5c20492"
      },
      "source": [
        "X_train['var3'] = X_train['var3'].replace(-999999, 2)\n",
        "X_train['var3'].value_counts()"
      ],
      "execution_count": null,
      "outputs": [
        {
          "output_type": "execute_result",
          "data": {
            "text/plain": [
              "2      74281\n",
              "8        138\n",
              "9        110\n",
              "3        108\n",
              "1        105\n",
              "       ...  \n",
              "177        1\n",
              "87         1\n",
              "151        1\n",
              "215        1\n",
              "191        1\n",
              "Name: var3, Length: 207, dtype: int64"
            ]
          },
          "metadata": {
            "tags": []
          },
          "execution_count": 67
        }
      ]
    },
    {
      "cell_type": "code",
      "metadata": {
        "colab": {
          "base_uri": "https://localhost:8080/"
        },
        "id": "QuYO3OZGDjL3",
        "outputId": "7a01bca4-0b85-44d5-a6cc-eb7fe7d92347"
      },
      "source": [
        "#using sklearn variancethreshold to find constant features\n",
        "\n",
        "from sklearn.feature_selection import VarianceThreshold\n",
        "sel = VarianceThreshold(threshold=0.01)\n",
        "sel.fit(X_train)  # fit finds the features with zero variance"
      ],
      "execution_count": null,
      "outputs": [
        {
          "output_type": "execute_result",
          "data": {
            "text/plain": [
              "VarianceThreshold(threshold=0.01)"
            ]
          },
          "metadata": {
            "tags": []
          },
          "execution_count": 68
        }
      ]
    },
    {
      "cell_type": "code",
      "metadata": {
        "colab": {
          "base_uri": "https://localhost:8080/"
        },
        "id": "EnrDrRiyDjL4",
        "outputId": "e78635c1-bcd6-48a3-e2d2-9436e3af0919"
      },
      "source": [
        "# get_support is a boolean vector that indicates which features are retained\n",
        "# if we sum over get_support, we get the number of features that are not constant\n",
        "sum(sel.get_support())"
      ],
      "execution_count": null,
      "outputs": [
        {
          "output_type": "execute_result",
          "data": {
            "text/plain": [
              "272"
            ]
          },
          "metadata": {
            "tags": []
          },
          "execution_count": 69
        }
      ]
    },
    {
      "cell_type": "code",
      "metadata": {
        "colab": {
          "base_uri": "https://localhost:8080/"
        },
        "id": "CDX-rflPDjL4",
        "outputId": "1f378c36-c4c7-486f-d71c-816d804661e8"
      },
      "source": [
        "# Finding non-constant features \n",
        "len(X_train.columns[sel.get_support()])"
      ],
      "execution_count": null,
      "outputs": [
        {
          "output_type": "execute_result",
          "data": {
            "text/plain": [
              "272"
            ]
          },
          "metadata": {
            "tags": []
          },
          "execution_count": 70
        }
      ]
    },
    {
      "cell_type": "code",
      "metadata": {
        "colab": {
          "base_uri": "https://localhost:8080/"
        },
        "id": "Fu_sZUO2DjL4",
        "outputId": "f5906500-25b0-428c-bb53-efcc3bd5084f"
      },
      "source": [
        "constant_columns_train = [column for column in X_train.columns\n",
        "                    if column not in X_train.columns[sel.get_support()]]\n",
        "\n",
        "print(len(constant_columns_train))"
      ],
      "execution_count": null,
      "outputs": [
        {
          "output_type": "stream",
          "text": [
            "97\n"
          ],
          "name": "stdout"
        }
      ]
    },
    {
      "cell_type": "code",
      "metadata": {
        "colab": {
          "base_uri": "https://localhost:8080/"
        },
        "id": "NnOhNwwnDjL5",
        "outputId": "f87a74d7-464c-4d8b-d491-32f65e78101a"
      },
      "source": [
        "for column in constant_columns_train:\n",
        "    print(column)"
      ],
      "execution_count": null,
      "outputs": [
        {
          "output_type": "stream",
          "text": [
            "ind_var1\n",
            "ind_var2_0\n",
            "ind_var2\n",
            "ind_var6_0\n",
            "ind_var6\n",
            "ind_var13_largo\n",
            "ind_var13_medio_0\n",
            "ind_var13_medio\n",
            "ind_var14\n",
            "ind_var17_0\n",
            "ind_var17\n",
            "ind_var18_0\n",
            "ind_var18\n",
            "ind_var19\n",
            "ind_var20_0\n",
            "ind_var20\n",
            "ind_var27_0\n",
            "ind_var28_0\n",
            "ind_var28\n",
            "ind_var27\n",
            "ind_var29_0\n",
            "ind_var29\n",
            "ind_var30_0\n",
            "ind_var31_0\n",
            "ind_var31\n",
            "ind_var32_cte\n",
            "ind_var32_0\n",
            "ind_var32\n",
            "ind_var33_0\n",
            "ind_var33\n",
            "ind_var34_0\n",
            "ind_var34\n",
            "ind_var40\n",
            "ind_var41\n",
            "ind_var39\n",
            "ind_var44_0\n",
            "ind_var44\n",
            "ind_var46_0\n",
            "ind_var46\n",
            "num_var6_0\n",
            "num_var6\n",
            "num_var13_medio_0\n",
            "num_var13_medio\n",
            "num_var18_0\n",
            "num_var18\n",
            "num_var27_0\n",
            "num_var28_0\n",
            "num_var28\n",
            "num_var27\n",
            "num_var29_0\n",
            "num_var29\n",
            "num_var33\n",
            "num_var34_0\n",
            "num_var34\n",
            "num_var41\n",
            "num_var46_0\n",
            "num_var46\n",
            "saldo_var28\n",
            "saldo_var27\n",
            "saldo_var41\n",
            "saldo_var46\n",
            "imp_amort_var18_hace3\n",
            "imp_amort_var34_hace3\n",
            "imp_reemb_var13_hace3\n",
            "imp_reemb_var33_hace3\n",
            "imp_trasp_var17_out_hace3\n",
            "imp_trasp_var33_out_hace3\n",
            "ind_var7_emit_ult1\n",
            "ind_var7_recib_ult1\n",
            "num_var2_0_ult1\n",
            "num_var2_ult1\n",
            "num_aport_var33_hace3\n",
            "num_aport_var33_ult1\n",
            "num_var7_emit_ult1\n",
            "num_compra_var44_hace3\n",
            "num_meses_var13_medio_ult3\n",
            "num_meses_var17_ult3\n",
            "num_meses_var29_ult3\n",
            "num_meses_var33_ult3\n",
            "num_meses_var44_ult3\n",
            "num_reemb_var13_hace3\n",
            "num_reemb_var13_ult1\n",
            "num_reemb_var17_hace3\n",
            "num_reemb_var17_ult1\n",
            "num_reemb_var33_hace3\n",
            "num_reemb_var33_ult1\n",
            "num_trasp_var17_in_hace3\n",
            "num_trasp_var17_in_ult1\n",
            "num_trasp_var17_out_hace3\n",
            "num_trasp_var17_out_ult1\n",
            "num_trasp_var33_in_hace3\n",
            "num_trasp_var33_in_ult1\n",
            "num_trasp_var33_out_hace3\n",
            "num_trasp_var33_out_ult1\n",
            "num_venta_var44_hace3\n",
            "saldo_var2_ult1\n",
            "saldo_medio_var13_medio_hace3\n"
          ],
          "name": "stdout"
        }
      ]
    },
    {
      "cell_type": "code",
      "metadata": {
        "colab": {
          "base_uri": "https://localhost:8080/",
          "height": 415
        },
        "id": "lW2_xf5WDjL5",
        "outputId": "d494542c-d079-4da2-8f60-cff5e8cfd821"
      },
      "source": [
        "X_train[['ind_var1','ind_var2']]"
      ],
      "execution_count": null,
      "outputs": [
        {
          "output_type": "execute_result",
          "data": {
            "text/html": [
              "<div>\n",
              "<style scoped>\n",
              "    .dataframe tbody tr th:only-of-type {\n",
              "        vertical-align: middle;\n",
              "    }\n",
              "\n",
              "    .dataframe tbody tr th {\n",
              "        vertical-align: top;\n",
              "    }\n",
              "\n",
              "    .dataframe thead th {\n",
              "        text-align: right;\n",
              "    }\n",
              "</style>\n",
              "<table border=\"1\" class=\"dataframe\">\n",
              "  <thead>\n",
              "    <tr style=\"text-align: right;\">\n",
              "      <th></th>\n",
              "      <th>ind_var1</th>\n",
              "      <th>ind_var2</th>\n",
              "    </tr>\n",
              "  </thead>\n",
              "  <tbody>\n",
              "    <tr>\n",
              "      <th>0</th>\n",
              "      <td>0</td>\n",
              "      <td>0</td>\n",
              "    </tr>\n",
              "    <tr>\n",
              "      <th>1</th>\n",
              "      <td>0</td>\n",
              "      <td>0</td>\n",
              "    </tr>\n",
              "    <tr>\n",
              "      <th>2</th>\n",
              "      <td>0</td>\n",
              "      <td>0</td>\n",
              "    </tr>\n",
              "    <tr>\n",
              "      <th>3</th>\n",
              "      <td>0</td>\n",
              "      <td>0</td>\n",
              "    </tr>\n",
              "    <tr>\n",
              "      <th>4</th>\n",
              "      <td>0</td>\n",
              "      <td>0</td>\n",
              "    </tr>\n",
              "    <tr>\n",
              "      <th>...</th>\n",
              "      <td>...</td>\n",
              "      <td>...</td>\n",
              "    </tr>\n",
              "    <tr>\n",
              "      <th>76015</th>\n",
              "      <td>0</td>\n",
              "      <td>0</td>\n",
              "    </tr>\n",
              "    <tr>\n",
              "      <th>76016</th>\n",
              "      <td>0</td>\n",
              "      <td>0</td>\n",
              "    </tr>\n",
              "    <tr>\n",
              "      <th>76017</th>\n",
              "      <td>0</td>\n",
              "      <td>0</td>\n",
              "    </tr>\n",
              "    <tr>\n",
              "      <th>76018</th>\n",
              "      <td>0</td>\n",
              "      <td>0</td>\n",
              "    </tr>\n",
              "    <tr>\n",
              "      <th>76019</th>\n",
              "      <td>0</td>\n",
              "      <td>0</td>\n",
              "    </tr>\n",
              "  </tbody>\n",
              "</table>\n",
              "<p>76020 rows × 2 columns</p>\n",
              "</div>"
            ],
            "text/plain": [
              "       ind_var1  ind_var2\n",
              "0             0         0\n",
              "1             0         0\n",
              "2             0         0\n",
              "3             0         0\n",
              "4             0         0\n",
              "...         ...       ...\n",
              "76015         0         0\n",
              "76016         0         0\n",
              "76017         0         0\n",
              "76018         0         0\n",
              "76019         0         0\n",
              "\n",
              "[76020 rows x 2 columns]"
            ]
          },
          "metadata": {
            "tags": []
          },
          "execution_count": 73
        }
      ]
    },
    {
      "cell_type": "code",
      "metadata": {
        "id": "THgBrC1kDjL6"
      },
      "source": [
        "#dropping constant columns\n",
        "X_train = X_train.drop(constant_columns_train,axis=1)"
      ],
      "execution_count": null,
      "outputs": []
    },
    {
      "cell_type": "code",
      "metadata": {
        "colab": {
          "base_uri": "https://localhost:8080/"
        },
        "id": "N5HtPmtGDjL6",
        "outputId": "b6fb20bf-fdee-42a4-db81-cdbcbe8c9f7d"
      },
      "source": [
        "X_train.shape"
      ],
      "execution_count": null,
      "outputs": [
        {
          "output_type": "execute_result",
          "data": {
            "text/plain": [
              "(76020, 272)"
            ]
          },
          "metadata": {
            "tags": []
          },
          "execution_count": 75
        }
      ]
    },
    {
      "cell_type": "code",
      "metadata": {
        "colab": {
          "base_uri": "https://localhost:8080/",
          "height": 251
        },
        "id": "lqE9i2GnDjL6",
        "outputId": "e6ec0df7-aa89-4139-f3ed-e8c36b8cfb53"
      },
      "source": [
        "X_train.head()"
      ],
      "execution_count": null,
      "outputs": [
        {
          "output_type": "execute_result",
          "data": {
            "text/html": [
              "<div>\n",
              "<style scoped>\n",
              "    .dataframe tbody tr th:only-of-type {\n",
              "        vertical-align: middle;\n",
              "    }\n",
              "\n",
              "    .dataframe tbody tr th {\n",
              "        vertical-align: top;\n",
              "    }\n",
              "\n",
              "    .dataframe thead th {\n",
              "        text-align: right;\n",
              "    }\n",
              "</style>\n",
              "<table border=\"1\" class=\"dataframe\">\n",
              "  <thead>\n",
              "    <tr style=\"text-align: right;\">\n",
              "      <th></th>\n",
              "      <th>var3</th>\n",
              "      <th>var15</th>\n",
              "      <th>imp_ent_var16_ult1</th>\n",
              "      <th>imp_op_var39_comer_ult1</th>\n",
              "      <th>imp_op_var39_comer_ult3</th>\n",
              "      <th>imp_op_var40_comer_ult1</th>\n",
              "      <th>imp_op_var40_comer_ult3</th>\n",
              "      <th>imp_op_var40_efect_ult1</th>\n",
              "      <th>imp_op_var40_efect_ult3</th>\n",
              "      <th>imp_op_var40_ult1</th>\n",
              "      <th>imp_op_var41_comer_ult1</th>\n",
              "      <th>imp_op_var41_comer_ult3</th>\n",
              "      <th>imp_op_var41_efect_ult1</th>\n",
              "      <th>imp_op_var41_efect_ult3</th>\n",
              "      <th>imp_op_var41_ult1</th>\n",
              "      <th>imp_op_var39_efect_ult1</th>\n",
              "      <th>imp_op_var39_efect_ult3</th>\n",
              "      <th>imp_op_var39_ult1</th>\n",
              "      <th>imp_sal_var16_ult1</th>\n",
              "      <th>ind_var1_0</th>\n",
              "      <th>ind_var5_0</th>\n",
              "      <th>ind_var5</th>\n",
              "      <th>ind_var8_0</th>\n",
              "      <th>ind_var8</th>\n",
              "      <th>ind_var12_0</th>\n",
              "      <th>ind_var12</th>\n",
              "      <th>ind_var13_0</th>\n",
              "      <th>ind_var13_corto_0</th>\n",
              "      <th>ind_var13_corto</th>\n",
              "      <th>ind_var13_largo_0</th>\n",
              "      <th>ind_var13</th>\n",
              "      <th>ind_var14_0</th>\n",
              "      <th>ind_var24_0</th>\n",
              "      <th>ind_var24</th>\n",
              "      <th>ind_var25_cte</th>\n",
              "      <th>ind_var26_0</th>\n",
              "      <th>ind_var26_cte</th>\n",
              "      <th>ind_var26</th>\n",
              "      <th>ind_var25_0</th>\n",
              "      <th>ind_var25</th>\n",
              "      <th>...</th>\n",
              "      <th>saldo_medio_var5_hace2</th>\n",
              "      <th>saldo_medio_var5_hace3</th>\n",
              "      <th>saldo_medio_var5_ult1</th>\n",
              "      <th>saldo_medio_var5_ult3</th>\n",
              "      <th>saldo_medio_var8_hace2</th>\n",
              "      <th>saldo_medio_var8_hace3</th>\n",
              "      <th>saldo_medio_var8_ult1</th>\n",
              "      <th>saldo_medio_var8_ult3</th>\n",
              "      <th>saldo_medio_var12_hace2</th>\n",
              "      <th>saldo_medio_var12_hace3</th>\n",
              "      <th>saldo_medio_var12_ult1</th>\n",
              "      <th>saldo_medio_var12_ult3</th>\n",
              "      <th>saldo_medio_var13_corto_hace2</th>\n",
              "      <th>saldo_medio_var13_corto_hace3</th>\n",
              "      <th>saldo_medio_var13_corto_ult1</th>\n",
              "      <th>saldo_medio_var13_corto_ult3</th>\n",
              "      <th>saldo_medio_var13_largo_hace2</th>\n",
              "      <th>saldo_medio_var13_largo_hace3</th>\n",
              "      <th>saldo_medio_var13_largo_ult1</th>\n",
              "      <th>saldo_medio_var13_largo_ult3</th>\n",
              "      <th>saldo_medio_var13_medio_hace2</th>\n",
              "      <th>saldo_medio_var13_medio_ult1</th>\n",
              "      <th>saldo_medio_var13_medio_ult3</th>\n",
              "      <th>saldo_medio_var17_hace2</th>\n",
              "      <th>saldo_medio_var17_hace3</th>\n",
              "      <th>saldo_medio_var17_ult1</th>\n",
              "      <th>saldo_medio_var17_ult3</th>\n",
              "      <th>saldo_medio_var29_hace2</th>\n",
              "      <th>saldo_medio_var29_hace3</th>\n",
              "      <th>saldo_medio_var29_ult1</th>\n",
              "      <th>saldo_medio_var29_ult3</th>\n",
              "      <th>saldo_medio_var33_hace2</th>\n",
              "      <th>saldo_medio_var33_hace3</th>\n",
              "      <th>saldo_medio_var33_ult1</th>\n",
              "      <th>saldo_medio_var33_ult3</th>\n",
              "      <th>saldo_medio_var44_hace2</th>\n",
              "      <th>saldo_medio_var44_hace3</th>\n",
              "      <th>saldo_medio_var44_ult1</th>\n",
              "      <th>saldo_medio_var44_ult3</th>\n",
              "      <th>var38</th>\n",
              "    </tr>\n",
              "  </thead>\n",
              "  <tbody>\n",
              "    <tr>\n",
              "      <th>0</th>\n",
              "      <td>2</td>\n",
              "      <td>23</td>\n",
              "      <td>0.0</td>\n",
              "      <td>0.0</td>\n",
              "      <td>0.0</td>\n",
              "      <td>0.0</td>\n",
              "      <td>0.0</td>\n",
              "      <td>0.0</td>\n",
              "      <td>0.0</td>\n",
              "      <td>0.0</td>\n",
              "      <td>0.0</td>\n",
              "      <td>0.0</td>\n",
              "      <td>0.0</td>\n",
              "      <td>0.0</td>\n",
              "      <td>0.0</td>\n",
              "      <td>0.0</td>\n",
              "      <td>0.0</td>\n",
              "      <td>0.0</td>\n",
              "      <td>0.0</td>\n",
              "      <td>0</td>\n",
              "      <td>1</td>\n",
              "      <td>0</td>\n",
              "      <td>0</td>\n",
              "      <td>0</td>\n",
              "      <td>0</td>\n",
              "      <td>0</td>\n",
              "      <td>0</td>\n",
              "      <td>0</td>\n",
              "      <td>0</td>\n",
              "      <td>0</td>\n",
              "      <td>0</td>\n",
              "      <td>0</td>\n",
              "      <td>0</td>\n",
              "      <td>0</td>\n",
              "      <td>0</td>\n",
              "      <td>0</td>\n",
              "      <td>0</td>\n",
              "      <td>0</td>\n",
              "      <td>0</td>\n",
              "      <td>0</td>\n",
              "      <td>...</td>\n",
              "      <td>0.00</td>\n",
              "      <td>0.00</td>\n",
              "      <td>0.00</td>\n",
              "      <td>0.00</td>\n",
              "      <td>0.0</td>\n",
              "      <td>0.0</td>\n",
              "      <td>0.0</td>\n",
              "      <td>0.0</td>\n",
              "      <td>0.0</td>\n",
              "      <td>0.0</td>\n",
              "      <td>0.00</td>\n",
              "      <td>0.00</td>\n",
              "      <td>0.0</td>\n",
              "      <td>0.00</td>\n",
              "      <td>0.0</td>\n",
              "      <td>0.00</td>\n",
              "      <td>0.0</td>\n",
              "      <td>0.0</td>\n",
              "      <td>0.0</td>\n",
              "      <td>0.0</td>\n",
              "      <td>0.0</td>\n",
              "      <td>0</td>\n",
              "      <td>0.0</td>\n",
              "      <td>0.0</td>\n",
              "      <td>0.0</td>\n",
              "      <td>0.0</td>\n",
              "      <td>0.0</td>\n",
              "      <td>0.0</td>\n",
              "      <td>0.0</td>\n",
              "      <td>0.0</td>\n",
              "      <td>0.0</td>\n",
              "      <td>0.0</td>\n",
              "      <td>0.0</td>\n",
              "      <td>0.0</td>\n",
              "      <td>0.0</td>\n",
              "      <td>0.0</td>\n",
              "      <td>0.0</td>\n",
              "      <td>0.0</td>\n",
              "      <td>0.0</td>\n",
              "      <td>39205.170000</td>\n",
              "    </tr>\n",
              "    <tr>\n",
              "      <th>1</th>\n",
              "      <td>2</td>\n",
              "      <td>34</td>\n",
              "      <td>0.0</td>\n",
              "      <td>0.0</td>\n",
              "      <td>0.0</td>\n",
              "      <td>0.0</td>\n",
              "      <td>0.0</td>\n",
              "      <td>0.0</td>\n",
              "      <td>0.0</td>\n",
              "      <td>0.0</td>\n",
              "      <td>0.0</td>\n",
              "      <td>0.0</td>\n",
              "      <td>0.0</td>\n",
              "      <td>0.0</td>\n",
              "      <td>0.0</td>\n",
              "      <td>0.0</td>\n",
              "      <td>0.0</td>\n",
              "      <td>0.0</td>\n",
              "      <td>0.0</td>\n",
              "      <td>0</td>\n",
              "      <td>1</td>\n",
              "      <td>0</td>\n",
              "      <td>0</td>\n",
              "      <td>0</td>\n",
              "      <td>0</td>\n",
              "      <td>0</td>\n",
              "      <td>1</td>\n",
              "      <td>1</td>\n",
              "      <td>1</td>\n",
              "      <td>0</td>\n",
              "      <td>1</td>\n",
              "      <td>0</td>\n",
              "      <td>0</td>\n",
              "      <td>0</td>\n",
              "      <td>0</td>\n",
              "      <td>0</td>\n",
              "      <td>0</td>\n",
              "      <td>0</td>\n",
              "      <td>0</td>\n",
              "      <td>0</td>\n",
              "      <td>...</td>\n",
              "      <td>0.00</td>\n",
              "      <td>88.89</td>\n",
              "      <td>0.00</td>\n",
              "      <td>0.00</td>\n",
              "      <td>0.0</td>\n",
              "      <td>0.0</td>\n",
              "      <td>0.0</td>\n",
              "      <td>0.0</td>\n",
              "      <td>0.0</td>\n",
              "      <td>0.0</td>\n",
              "      <td>0.00</td>\n",
              "      <td>0.00</td>\n",
              "      <td>300.0</td>\n",
              "      <td>122.22</td>\n",
              "      <td>300.0</td>\n",
              "      <td>240.75</td>\n",
              "      <td>0.0</td>\n",
              "      <td>0.0</td>\n",
              "      <td>0.0</td>\n",
              "      <td>0.0</td>\n",
              "      <td>0.0</td>\n",
              "      <td>0</td>\n",
              "      <td>0.0</td>\n",
              "      <td>0.0</td>\n",
              "      <td>0.0</td>\n",
              "      <td>0.0</td>\n",
              "      <td>0.0</td>\n",
              "      <td>0.0</td>\n",
              "      <td>0.0</td>\n",
              "      <td>0.0</td>\n",
              "      <td>0.0</td>\n",
              "      <td>0.0</td>\n",
              "      <td>0.0</td>\n",
              "      <td>0.0</td>\n",
              "      <td>0.0</td>\n",
              "      <td>0.0</td>\n",
              "      <td>0.0</td>\n",
              "      <td>0.0</td>\n",
              "      <td>0.0</td>\n",
              "      <td>49278.030000</td>\n",
              "    </tr>\n",
              "    <tr>\n",
              "      <th>2</th>\n",
              "      <td>2</td>\n",
              "      <td>23</td>\n",
              "      <td>0.0</td>\n",
              "      <td>0.0</td>\n",
              "      <td>0.0</td>\n",
              "      <td>0.0</td>\n",
              "      <td>0.0</td>\n",
              "      <td>0.0</td>\n",
              "      <td>0.0</td>\n",
              "      <td>0.0</td>\n",
              "      <td>0.0</td>\n",
              "      <td>0.0</td>\n",
              "      <td>0.0</td>\n",
              "      <td>0.0</td>\n",
              "      <td>0.0</td>\n",
              "      <td>0.0</td>\n",
              "      <td>0.0</td>\n",
              "      <td>0.0</td>\n",
              "      <td>0.0</td>\n",
              "      <td>0</td>\n",
              "      <td>1</td>\n",
              "      <td>1</td>\n",
              "      <td>0</td>\n",
              "      <td>0</td>\n",
              "      <td>0</td>\n",
              "      <td>0</td>\n",
              "      <td>0</td>\n",
              "      <td>0</td>\n",
              "      <td>0</td>\n",
              "      <td>0</td>\n",
              "      <td>0</td>\n",
              "      <td>0</td>\n",
              "      <td>0</td>\n",
              "      <td>0</td>\n",
              "      <td>0</td>\n",
              "      <td>0</td>\n",
              "      <td>0</td>\n",
              "      <td>0</td>\n",
              "      <td>0</td>\n",
              "      <td>0</td>\n",
              "      <td>...</td>\n",
              "      <td>3.00</td>\n",
              "      <td>0.18</td>\n",
              "      <td>3.00</td>\n",
              "      <td>2.07</td>\n",
              "      <td>0.0</td>\n",
              "      <td>0.0</td>\n",
              "      <td>0.0</td>\n",
              "      <td>0.0</td>\n",
              "      <td>0.0</td>\n",
              "      <td>0.0</td>\n",
              "      <td>0.00</td>\n",
              "      <td>0.00</td>\n",
              "      <td>0.0</td>\n",
              "      <td>0.00</td>\n",
              "      <td>0.0</td>\n",
              "      <td>0.00</td>\n",
              "      <td>0.0</td>\n",
              "      <td>0.0</td>\n",
              "      <td>0.0</td>\n",
              "      <td>0.0</td>\n",
              "      <td>0.0</td>\n",
              "      <td>0</td>\n",
              "      <td>0.0</td>\n",
              "      <td>0.0</td>\n",
              "      <td>0.0</td>\n",
              "      <td>0.0</td>\n",
              "      <td>0.0</td>\n",
              "      <td>0.0</td>\n",
              "      <td>0.0</td>\n",
              "      <td>0.0</td>\n",
              "      <td>0.0</td>\n",
              "      <td>0.0</td>\n",
              "      <td>0.0</td>\n",
              "      <td>0.0</td>\n",
              "      <td>0.0</td>\n",
              "      <td>0.0</td>\n",
              "      <td>0.0</td>\n",
              "      <td>0.0</td>\n",
              "      <td>0.0</td>\n",
              "      <td>67333.770000</td>\n",
              "    </tr>\n",
              "    <tr>\n",
              "      <th>3</th>\n",
              "      <td>2</td>\n",
              "      <td>37</td>\n",
              "      <td>0.0</td>\n",
              "      <td>195.0</td>\n",
              "      <td>195.0</td>\n",
              "      <td>0.0</td>\n",
              "      <td>0.0</td>\n",
              "      <td>0.0</td>\n",
              "      <td>0.0</td>\n",
              "      <td>0.0</td>\n",
              "      <td>195.0</td>\n",
              "      <td>195.0</td>\n",
              "      <td>0.0</td>\n",
              "      <td>0.0</td>\n",
              "      <td>195.0</td>\n",
              "      <td>0.0</td>\n",
              "      <td>0.0</td>\n",
              "      <td>195.0</td>\n",
              "      <td>0.0</td>\n",
              "      <td>0</td>\n",
              "      <td>1</td>\n",
              "      <td>1</td>\n",
              "      <td>0</td>\n",
              "      <td>0</td>\n",
              "      <td>0</td>\n",
              "      <td>0</td>\n",
              "      <td>0</td>\n",
              "      <td>0</td>\n",
              "      <td>0</td>\n",
              "      <td>0</td>\n",
              "      <td>0</td>\n",
              "      <td>0</td>\n",
              "      <td>0</td>\n",
              "      <td>0</td>\n",
              "      <td>0</td>\n",
              "      <td>0</td>\n",
              "      <td>0</td>\n",
              "      <td>0</td>\n",
              "      <td>0</td>\n",
              "      <td>0</td>\n",
              "      <td>...</td>\n",
              "      <td>186.09</td>\n",
              "      <td>0.00</td>\n",
              "      <td>91.56</td>\n",
              "      <td>138.84</td>\n",
              "      <td>0.0</td>\n",
              "      <td>0.0</td>\n",
              "      <td>0.0</td>\n",
              "      <td>0.0</td>\n",
              "      <td>0.0</td>\n",
              "      <td>0.0</td>\n",
              "      <td>0.00</td>\n",
              "      <td>0.00</td>\n",
              "      <td>0.0</td>\n",
              "      <td>0.00</td>\n",
              "      <td>0.0</td>\n",
              "      <td>0.00</td>\n",
              "      <td>0.0</td>\n",
              "      <td>0.0</td>\n",
              "      <td>0.0</td>\n",
              "      <td>0.0</td>\n",
              "      <td>0.0</td>\n",
              "      <td>0</td>\n",
              "      <td>0.0</td>\n",
              "      <td>0.0</td>\n",
              "      <td>0.0</td>\n",
              "      <td>0.0</td>\n",
              "      <td>0.0</td>\n",
              "      <td>0.0</td>\n",
              "      <td>0.0</td>\n",
              "      <td>0.0</td>\n",
              "      <td>0.0</td>\n",
              "      <td>0.0</td>\n",
              "      <td>0.0</td>\n",
              "      <td>0.0</td>\n",
              "      <td>0.0</td>\n",
              "      <td>0.0</td>\n",
              "      <td>0.0</td>\n",
              "      <td>0.0</td>\n",
              "      <td>0.0</td>\n",
              "      <td>64007.970000</td>\n",
              "    </tr>\n",
              "    <tr>\n",
              "      <th>4</th>\n",
              "      <td>2</td>\n",
              "      <td>39</td>\n",
              "      <td>0.0</td>\n",
              "      <td>0.0</td>\n",
              "      <td>0.0</td>\n",
              "      <td>0.0</td>\n",
              "      <td>0.0</td>\n",
              "      <td>0.0</td>\n",
              "      <td>0.0</td>\n",
              "      <td>0.0</td>\n",
              "      <td>0.0</td>\n",
              "      <td>0.0</td>\n",
              "      <td>0.0</td>\n",
              "      <td>0.0</td>\n",
              "      <td>0.0</td>\n",
              "      <td>0.0</td>\n",
              "      <td>0.0</td>\n",
              "      <td>0.0</td>\n",
              "      <td>0.0</td>\n",
              "      <td>0</td>\n",
              "      <td>1</td>\n",
              "      <td>0</td>\n",
              "      <td>0</td>\n",
              "      <td>0</td>\n",
              "      <td>1</td>\n",
              "      <td>1</td>\n",
              "      <td>0</td>\n",
              "      <td>0</td>\n",
              "      <td>0</td>\n",
              "      <td>0</td>\n",
              "      <td>0</td>\n",
              "      <td>0</td>\n",
              "      <td>1</td>\n",
              "      <td>1</td>\n",
              "      <td>0</td>\n",
              "      <td>0</td>\n",
              "      <td>0</td>\n",
              "      <td>0</td>\n",
              "      <td>0</td>\n",
              "      <td>0</td>\n",
              "      <td>...</td>\n",
              "      <td>3.00</td>\n",
              "      <td>0.30</td>\n",
              "      <td>40501.08</td>\n",
              "      <td>13501.47</td>\n",
              "      <td>0.0</td>\n",
              "      <td>0.0</td>\n",
              "      <td>0.0</td>\n",
              "      <td>0.0</td>\n",
              "      <td>0.0</td>\n",
              "      <td>0.0</td>\n",
              "      <td>85501.89</td>\n",
              "      <td>85501.89</td>\n",
              "      <td>0.0</td>\n",
              "      <td>0.00</td>\n",
              "      <td>0.0</td>\n",
              "      <td>0.00</td>\n",
              "      <td>0.0</td>\n",
              "      <td>0.0</td>\n",
              "      <td>0.0</td>\n",
              "      <td>0.0</td>\n",
              "      <td>0.0</td>\n",
              "      <td>0</td>\n",
              "      <td>0.0</td>\n",
              "      <td>0.0</td>\n",
              "      <td>0.0</td>\n",
              "      <td>0.0</td>\n",
              "      <td>0.0</td>\n",
              "      <td>0.0</td>\n",
              "      <td>0.0</td>\n",
              "      <td>0.0</td>\n",
              "      <td>0.0</td>\n",
              "      <td>0.0</td>\n",
              "      <td>0.0</td>\n",
              "      <td>0.0</td>\n",
              "      <td>0.0</td>\n",
              "      <td>0.0</td>\n",
              "      <td>0.0</td>\n",
              "      <td>0.0</td>\n",
              "      <td>0.0</td>\n",
              "      <td>117310.979016</td>\n",
              "    </tr>\n",
              "  </tbody>\n",
              "</table>\n",
              "<p>5 rows × 272 columns</p>\n",
              "</div>"
            ],
            "text/plain": [
              "   var3  var15  ...  saldo_medio_var44_ult3          var38\n",
              "0     2     23  ...                     0.0   39205.170000\n",
              "1     2     34  ...                     0.0   49278.030000\n",
              "2     2     23  ...                     0.0   67333.770000\n",
              "3     2     37  ...                     0.0   64007.970000\n",
              "4     2     39  ...                     0.0  117310.979016\n",
              "\n",
              "[5 rows x 272 columns]"
            ]
          },
          "metadata": {
            "tags": []
          },
          "execution_count": 76
        }
      ]
    },
    {
      "cell_type": "markdown",
      "metadata": {
        "id": "KL3GkDsX6Zny"
      },
      "source": [
        "Finding highly correlated features"
      ]
    },
    {
      "cell_type": "code",
      "metadata": {
        "colab": {
          "base_uri": "https://localhost:8080/",
          "height": 879
        },
        "id": "qL7YU-dVmVrx",
        "outputId": "ab6ff4f2-5c63-4995-818c-23160544ace4"
      },
      "source": [
        "#Using Pearson Correlation\n",
        "corrmat = X_train.corr()\n",
        "fig, ax = plt.subplots()\n",
        "fig.set_size_inches(12,12)\n",
        "sns.heatmap(corrmat,cmap=\"CMRmap_r\")"
      ],
      "execution_count": null,
      "outputs": [
        {
          "output_type": "execute_result",
          "data": {
            "text/plain": [
              "<matplotlib.axes._subplots.AxesSubplot at 0x7facec46e410>"
            ]
          },
          "metadata": {
            "tags": []
          },
          "execution_count": 77
        },
        {
          "output_type": "display_data",
          "data": {
            "image/png": "[encoded data removed]",
            "text/plain": [
              "<Figure size 864x864 with 2 Axes>"
            ]
          },
          "metadata": {
            "tags": []
          }
        }
      ]
    },
    {
      "cell_type": "code",
      "metadata": {
        "id": "ZvWAAII9meoZ"
      },
      "source": [
        "# with the following function we can select highly correlated features\n",
        "# it will remove the first feature that is correlated with anything other feature\n",
        "\n",
        "def correlation(dataset, threshold):\n",
        "    col_corr = set()  # Set of all the names of correlated columns\n",
        "    corr_matrix = dataset.corr()\n",
        "    for i in range(len(corr_matrix.columns)):\n",
        "        for j in range(i):\n",
        "            if abs(corr_matrix.iloc[i, j]) > threshold: # we are interested in absolute coeff value\n",
        "                colname = corr_matrix.columns[i]  # getting the name of column\n",
        "                col_corr.add(colname)\n",
        "    return col_corr"
      ],
      "execution_count": null,
      "outputs": []
    },
    {
      "cell_type": "code",
      "metadata": {
        "colab": {
          "base_uri": "https://localhost:8080/"
        },
        "id": "UzxhqBUhmjAH",
        "outputId": "4d4e21ab-1d06-4704-9caa-7697be043ad9"
      },
      "source": [
        "corr_features = correlation(X_train, 0.98)\n",
        "len(set(corr_features))"
      ],
      "execution_count": null,
      "outputs": [
        {
          "output_type": "execute_result",
          "data": {
            "text/plain": [
              "68"
            ]
          },
          "metadata": {
            "tags": []
          },
          "execution_count": 79
        }
      ]
    },
    {
      "cell_type": "code",
      "metadata": {
        "colab": {
          "base_uri": "https://localhost:8080/"
        },
        "id": "HodlNwNqmsQh",
        "outputId": "3e51ee37-aa66-4b60-c173-c44a35dbf640"
      },
      "source": [
        "corr_features"
      ],
      "execution_count": null,
      "outputs": [
        {
          "output_type": "execute_result",
          "data": {
            "text/plain": [
              "{'delta_num_aport_var13_1y3',\n",
              " 'delta_num_aport_var17_1y3',\n",
              " 'delta_num_aport_var33_1y3',\n",
              " 'delta_num_compra_var44_1y3',\n",
              " 'delta_num_reemb_var13_1y3',\n",
              " 'delta_num_reemb_var17_1y3',\n",
              " 'delta_num_reemb_var33_1y3',\n",
              " 'delta_num_trasp_var17_in_1y3',\n",
              " 'delta_num_trasp_var17_out_1y3',\n",
              " 'delta_num_trasp_var33_in_1y3',\n",
              " 'delta_num_trasp_var33_out_1y3',\n",
              " 'delta_num_venta_var44_1y3',\n",
              " 'imp_amort_var18_ult1',\n",
              " 'imp_amort_var34_ult1',\n",
              " 'imp_aport_var17_hace3',\n",
              " 'imp_op_var39_efect_ult1',\n",
              " 'imp_op_var39_efect_ult3',\n",
              " 'imp_op_var39_ult1',\n",
              " 'imp_reemb_var33_ult1',\n",
              " 'imp_trasp_var33_out_ult1',\n",
              " 'ind_var13',\n",
              " 'ind_var13_corto',\n",
              " 'ind_var25',\n",
              " 'ind_var26',\n",
              " 'ind_var37',\n",
              " 'ind_var40_0',\n",
              " 'ind_var41_0',\n",
              " 'num_op_var39_efect_ult1',\n",
              " 'num_op_var39_efect_ult3',\n",
              " 'num_op_var39_hace2',\n",
              " 'num_op_var39_hace3',\n",
              " 'num_op_var39_ult1',\n",
              " 'num_op_var39_ult3',\n",
              " 'num_var12',\n",
              " 'num_var13_corto',\n",
              " 'num_var13_corto_0',\n",
              " 'num_var1_0',\n",
              " 'num_var24',\n",
              " 'num_var24_0',\n",
              " 'num_var25',\n",
              " 'num_var26',\n",
              " 'num_var32',\n",
              " 'num_var35',\n",
              " 'num_var37',\n",
              " 'num_var39',\n",
              " 'num_var40',\n",
              " 'num_var40_0',\n",
              " 'num_var45_ult3',\n",
              " 'num_var5',\n",
              " 'num_var8',\n",
              " 'num_var8_0',\n",
              " 'saldo_medio_var12_ult1',\n",
              " 'saldo_medio_var12_ult3',\n",
              " 'saldo_medio_var13_corto_ult1',\n",
              " 'saldo_medio_var13_corto_ult3',\n",
              " 'saldo_medio_var13_largo_ult3',\n",
              " 'saldo_medio_var13_medio_ult1',\n",
              " 'saldo_medio_var13_medio_ult3',\n",
              " 'saldo_medio_var17_hace2',\n",
              " 'saldo_medio_var17_hace3',\n",
              " 'saldo_medio_var17_ult1',\n",
              " 'saldo_medio_var17_ult3',\n",
              " 'saldo_medio_var33_ult1',\n",
              " 'saldo_medio_var33_ult3',\n",
              " 'saldo_var18',\n",
              " 'saldo_var24',\n",
              " 'saldo_var25',\n",
              " 'saldo_var29'}"
            ]
          },
          "metadata": {
            "tags": []
          },
          "execution_count": 80
        }
      ]
    },
    {
      "cell_type": "code",
      "metadata": {
        "id": "hB-QhAvxmxqL"
      },
      "source": [
        "#removing correlated features\n",
        "X_train = X_train.drop(corr_features,axis=1)"
      ],
      "execution_count": null,
      "outputs": []
    },
    {
      "cell_type": "code",
      "metadata": {
        "colab": {
          "base_uri": "https://localhost:8080/"
        },
        "id": "JHewu87zm1ZG",
        "outputId": "d327d89d-d3f3-4330-bb71-ea72e695319f"
      },
      "source": [
        "X_train.shape"
      ],
      "execution_count": null,
      "outputs": [
        {
          "output_type": "execute_result",
          "data": {
            "text/plain": [
              "(76020, 204)"
            ]
          },
          "metadata": {
            "tags": []
          },
          "execution_count": 82
        }
      ]
    },
    {
      "cell_type": "code",
      "metadata": {
        "id": "CKmJkJjmnLj6"
      },
      "source": [
        ""
      ],
      "execution_count": null,
      "outputs": []
    },
    {
      "cell_type": "code",
      "metadata": {
        "id": "gSASEwQzDjL7"
      },
      "source": [
        "#Feature Scaling\n",
        "scaler = StandardScaler()\n",
        "\n",
        "X_train_scaled = pd.DataFrame(scaler.fit_transform(X_train), columns = X_train.columns)\n"
      ],
      "execution_count": null,
      "outputs": []
    },
    {
      "cell_type": "code",
      "metadata": {
        "colab": {
          "base_uri": "https://localhost:8080/",
          "height": 251
        },
        "id": "02K9kZAoDjL7",
        "outputId": "a91dfa3c-d294-4025-eaa9-a4438a4cf485"
      },
      "source": [
        "X_train_scaled.head()"
      ],
      "execution_count": null,
      "outputs": [
        {
          "output_type": "execute_result",
          "data": {
            "text/html": [
              "<div>\n",
              "<style scoped>\n",
              "    .dataframe tbody tr th:only-of-type {\n",
              "        vertical-align: middle;\n",
              "    }\n",
              "\n",
              "    .dataframe tbody tr th {\n",
              "        vertical-align: top;\n",
              "    }\n",
              "\n",
              "    .dataframe thead th {\n",
              "        text-align: right;\n",
              "    }\n",
              "</style>\n",
              "<table border=\"1\" class=\"dataframe\">\n",
              "  <thead>\n",
              "    <tr style=\"text-align: right;\">\n",
              "      <th></th>\n",
              "      <th>var3</th>\n",
              "      <th>var15</th>\n",
              "      <th>imp_ent_var16_ult1</th>\n",
              "      <th>imp_op_var39_comer_ult1</th>\n",
              "      <th>imp_op_var39_comer_ult3</th>\n",
              "      <th>imp_op_var40_comer_ult1</th>\n",
              "      <th>imp_op_var40_comer_ult3</th>\n",
              "      <th>imp_op_var40_efect_ult1</th>\n",
              "      <th>imp_op_var40_efect_ult3</th>\n",
              "      <th>imp_op_var40_ult1</th>\n",
              "      <th>imp_op_var41_comer_ult1</th>\n",
              "      <th>imp_op_var41_comer_ult3</th>\n",
              "      <th>imp_op_var41_efect_ult1</th>\n",
              "      <th>imp_op_var41_efect_ult3</th>\n",
              "      <th>imp_op_var41_ult1</th>\n",
              "      <th>imp_sal_var16_ult1</th>\n",
              "      <th>ind_var1_0</th>\n",
              "      <th>ind_var5_0</th>\n",
              "      <th>ind_var5</th>\n",
              "      <th>ind_var8_0</th>\n",
              "      <th>ind_var8</th>\n",
              "      <th>ind_var12_0</th>\n",
              "      <th>ind_var12</th>\n",
              "      <th>ind_var13_0</th>\n",
              "      <th>ind_var13_corto_0</th>\n",
              "      <th>ind_var13_largo_0</th>\n",
              "      <th>ind_var14_0</th>\n",
              "      <th>ind_var24_0</th>\n",
              "      <th>ind_var24</th>\n",
              "      <th>ind_var25_cte</th>\n",
              "      <th>ind_var26_0</th>\n",
              "      <th>ind_var26_cte</th>\n",
              "      <th>ind_var25_0</th>\n",
              "      <th>ind_var30</th>\n",
              "      <th>ind_var37_cte</th>\n",
              "      <th>ind_var37_0</th>\n",
              "      <th>ind_var39_0</th>\n",
              "      <th>num_var1</th>\n",
              "      <th>num_var4</th>\n",
              "      <th>num_var5_0</th>\n",
              "      <th>...</th>\n",
              "      <th>num_op_var40_efect_ult3</th>\n",
              "      <th>num_op_var41_comer_ult1</th>\n",
              "      <th>num_op_var41_comer_ult3</th>\n",
              "      <th>num_op_var41_efect_ult1</th>\n",
              "      <th>num_op_var41_efect_ult3</th>\n",
              "      <th>num_sal_var16_ult1</th>\n",
              "      <th>num_var43_emit_ult1</th>\n",
              "      <th>num_var43_recib_ult1</th>\n",
              "      <th>num_trasp_var11_ult1</th>\n",
              "      <th>num_venta_var44_ult1</th>\n",
              "      <th>num_var45_hace2</th>\n",
              "      <th>num_var45_hace3</th>\n",
              "      <th>num_var45_ult1</th>\n",
              "      <th>saldo_medio_var5_hace2</th>\n",
              "      <th>saldo_medio_var5_hace3</th>\n",
              "      <th>saldo_medio_var5_ult1</th>\n",
              "      <th>saldo_medio_var5_ult3</th>\n",
              "      <th>saldo_medio_var8_hace2</th>\n",
              "      <th>saldo_medio_var8_hace3</th>\n",
              "      <th>saldo_medio_var8_ult1</th>\n",
              "      <th>saldo_medio_var8_ult3</th>\n",
              "      <th>saldo_medio_var12_hace2</th>\n",
              "      <th>saldo_medio_var12_hace3</th>\n",
              "      <th>saldo_medio_var13_corto_hace2</th>\n",
              "      <th>saldo_medio_var13_corto_hace3</th>\n",
              "      <th>saldo_medio_var13_largo_hace2</th>\n",
              "      <th>saldo_medio_var13_largo_hace3</th>\n",
              "      <th>saldo_medio_var13_largo_ult1</th>\n",
              "      <th>saldo_medio_var13_medio_hace2</th>\n",
              "      <th>saldo_medio_var29_hace2</th>\n",
              "      <th>saldo_medio_var29_hace3</th>\n",
              "      <th>saldo_medio_var29_ult1</th>\n",
              "      <th>saldo_medio_var29_ult3</th>\n",
              "      <th>saldo_medio_var33_hace2</th>\n",
              "      <th>saldo_medio_var33_hace3</th>\n",
              "      <th>saldo_medio_var44_hace2</th>\n",
              "      <th>saldo_medio_var44_hace3</th>\n",
              "      <th>saldo_medio_var44_ult1</th>\n",
              "      <th>saldo_medio_var44_ult3</th>\n",
              "      <th>var38</th>\n",
              "    </tr>\n",
              "  </thead>\n",
              "  <tbody>\n",
              "    <tr>\n",
              "      <th>0</th>\n",
              "      <td>-0.075835</td>\n",
              "      <td>-0.788249</td>\n",
              "      <td>-0.053388</td>\n",
              "      <td>-0.213263</td>\n",
              "      <td>-0.218813</td>\n",
              "      <td>-0.038206</td>\n",
              "      <td>-0.042103</td>\n",
              "      <td>-0.013493</td>\n",
              "      <td>-0.015538</td>\n",
              "      <td>-0.033177</td>\n",
              "      <td>-0.215279</td>\n",
              "      <td>-0.220749</td>\n",
              "      <td>-0.128231</td>\n",
              "      <td>-0.119174</td>\n",
              "      <td>-0.196705</td>\n",
              "      <td>-0.01177</td>\n",
              "      <td>-0.107658</td>\n",
              "      <td>0.20932</td>\n",
              "      <td>-1.405013</td>\n",
              "      <td>-0.18425</td>\n",
              "      <td>-0.17158</td>\n",
              "      <td>-0.269093</td>\n",
              "      <td>-0.218236</td>\n",
              "      <td>-0.234798</td>\n",
              "      <td>-0.211807</td>\n",
              "      <td>-0.101355</td>\n",
              "      <td>-0.155643</td>\n",
              "      <td>-0.210345</td>\n",
              "      <td>-0.198435</td>\n",
              "      <td>-0.164756</td>\n",
              "      <td>-0.158936</td>\n",
              "      <td>-0.168343</td>\n",
              "      <td>-0.155598</td>\n",
              "      <td>-1.656196</td>\n",
              "      <td>-0.279161</td>\n",
              "      <td>-0.264226</td>\n",
              "      <td>0.367953</td>\n",
              "      <td>-0.061346</td>\n",
              "      <td>-1.186772</td>\n",
              "      <td>0.161406</td>\n",
              "      <td>...</td>\n",
              "      <td>-0.018163</td>\n",
              "      <td>-0.240903</td>\n",
              "      <td>-0.244844</td>\n",
              "      <td>-0.224049</td>\n",
              "      <td>-0.234897</td>\n",
              "      <td>-0.031836</td>\n",
              "      <td>-0.177277</td>\n",
              "      <td>-0.229084</td>\n",
              "      <td>-0.102956</td>\n",
              "      <td>-0.016726</td>\n",
              "      <td>-0.372048</td>\n",
              "      <td>-0.373859</td>\n",
              "      <td>-0.302886</td>\n",
              "      <td>-0.129987</td>\n",
              "      <td>-0.090141</td>\n",
              "      <td>-0.112041</td>\n",
              "      <td>-0.128067</td>\n",
              "      <td>-0.039378</td>\n",
              "      <td>-0.018301</td>\n",
              "      <td>-0.056511</td>\n",
              "      <td>-0.056853</td>\n",
              "      <td>-0.105817</td>\n",
              "      <td>-0.066023</td>\n",
              "      <td>-0.138071</td>\n",
              "      <td>-0.077435</td>\n",
              "      <td>-0.058953</td>\n",
              "      <td>-0.034513</td>\n",
              "      <td>-0.059784</td>\n",
              "      <td>-0.005063</td>\n",
              "      <td>-0.005095</td>\n",
              "      <td>-0.003627</td>\n",
              "      <td>-0.004875</td>\n",
              "      <td>-0.005854</td>\n",
              "      <td>-0.017408</td>\n",
              "      <td>-0.011979</td>\n",
              "      <td>-0.01565</td>\n",
              "      <td>-0.012576</td>\n",
              "      <td>-0.018817</td>\n",
              "      <td>-0.019847</td>\n",
              "      <td>-0.427183</td>\n",
              "    </tr>\n",
              "    <tr>\n",
              "      <th>1</th>\n",
              "      <td>-0.075835</td>\n",
              "      <td>0.060753</td>\n",
              "      <td>-0.053388</td>\n",
              "      <td>-0.213263</td>\n",
              "      <td>-0.218813</td>\n",
              "      <td>-0.038206</td>\n",
              "      <td>-0.042103</td>\n",
              "      <td>-0.013493</td>\n",
              "      <td>-0.015538</td>\n",
              "      <td>-0.033177</td>\n",
              "      <td>-0.215279</td>\n",
              "      <td>-0.220749</td>\n",
              "      <td>-0.128231</td>\n",
              "      <td>-0.119174</td>\n",
              "      <td>-0.196705</td>\n",
              "      <td>-0.01177</td>\n",
              "      <td>-0.107658</td>\n",
              "      <td>0.20932</td>\n",
              "      <td>-1.405013</td>\n",
              "      <td>-0.18425</td>\n",
              "      <td>-0.17158</td>\n",
              "      <td>-0.269093</td>\n",
              "      <td>-0.218236</td>\n",
              "      <td>4.258987</td>\n",
              "      <td>4.721275</td>\n",
              "      <td>-0.101355</td>\n",
              "      <td>-0.155643</td>\n",
              "      <td>-0.210345</td>\n",
              "      <td>-0.198435</td>\n",
              "      <td>-0.164756</td>\n",
              "      <td>-0.158936</td>\n",
              "      <td>-0.168343</td>\n",
              "      <td>-0.155598</td>\n",
              "      <td>0.603793</td>\n",
              "      <td>-0.279161</td>\n",
              "      <td>-0.264226</td>\n",
              "      <td>0.367953</td>\n",
              "      <td>-0.061346</td>\n",
              "      <td>-0.087339</td>\n",
              "      <td>0.161406</td>\n",
              "      <td>...</td>\n",
              "      <td>-0.018163</td>\n",
              "      <td>-0.240903</td>\n",
              "      <td>-0.244844</td>\n",
              "      <td>-0.224049</td>\n",
              "      <td>-0.234897</td>\n",
              "      <td>-0.031836</td>\n",
              "      <td>-0.177277</td>\n",
              "      <td>-0.229084</td>\n",
              "      <td>-0.102956</td>\n",
              "      <td>-0.016726</td>\n",
              "      <td>-0.372048</td>\n",
              "      <td>-0.373859</td>\n",
              "      <td>-0.302886</td>\n",
              "      <td>-0.129987</td>\n",
              "      <td>-0.081152</td>\n",
              "      <td>-0.112041</td>\n",
              "      <td>-0.128067</td>\n",
              "      <td>-0.039378</td>\n",
              "      <td>-0.018301</td>\n",
              "      <td>-0.056511</td>\n",
              "      <td>-0.056853</td>\n",
              "      <td>-0.105817</td>\n",
              "      <td>-0.066023</td>\n",
              "      <td>-0.126690</td>\n",
              "      <td>-0.060419</td>\n",
              "      <td>-0.058953</td>\n",
              "      <td>-0.034513</td>\n",
              "      <td>-0.059784</td>\n",
              "      <td>-0.005063</td>\n",
              "      <td>-0.005095</td>\n",
              "      <td>-0.003627</td>\n",
              "      <td>-0.004875</td>\n",
              "      <td>-0.005854</td>\n",
              "      <td>-0.017408</td>\n",
              "      <td>-0.011979</td>\n",
              "      <td>-0.01565</td>\n",
              "      <td>-0.012576</td>\n",
              "      <td>-0.018817</td>\n",
              "      <td>-0.019847</td>\n",
              "      <td>-0.372038</td>\n",
              "    </tr>\n",
              "    <tr>\n",
              "      <th>2</th>\n",
              "      <td>-0.075835</td>\n",
              "      <td>-0.788249</td>\n",
              "      <td>-0.053388</td>\n",
              "      <td>-0.213263</td>\n",
              "      <td>-0.218813</td>\n",
              "      <td>-0.038206</td>\n",
              "      <td>-0.042103</td>\n",
              "      <td>-0.013493</td>\n",
              "      <td>-0.015538</td>\n",
              "      <td>-0.033177</td>\n",
              "      <td>-0.215279</td>\n",
              "      <td>-0.220749</td>\n",
              "      <td>-0.128231</td>\n",
              "      <td>-0.119174</td>\n",
              "      <td>-0.196705</td>\n",
              "      <td>-0.01177</td>\n",
              "      <td>-0.107658</td>\n",
              "      <td>0.20932</td>\n",
              "      <td>0.711737</td>\n",
              "      <td>-0.18425</td>\n",
              "      <td>-0.17158</td>\n",
              "      <td>-0.269093</td>\n",
              "      <td>-0.218236</td>\n",
              "      <td>-0.234798</td>\n",
              "      <td>-0.211807</td>\n",
              "      <td>-0.101355</td>\n",
              "      <td>-0.155643</td>\n",
              "      <td>-0.210345</td>\n",
              "      <td>-0.198435</td>\n",
              "      <td>-0.164756</td>\n",
              "      <td>-0.158936</td>\n",
              "      <td>-0.168343</td>\n",
              "      <td>-0.155598</td>\n",
              "      <td>0.603793</td>\n",
              "      <td>-0.279161</td>\n",
              "      <td>-0.264226</td>\n",
              "      <td>0.367953</td>\n",
              "      <td>-0.061346</td>\n",
              "      <td>-0.087339</td>\n",
              "      <td>0.161406</td>\n",
              "      <td>...</td>\n",
              "      <td>-0.018163</td>\n",
              "      <td>-0.240903</td>\n",
              "      <td>-0.244844</td>\n",
              "      <td>-0.224049</td>\n",
              "      <td>-0.234897</td>\n",
              "      <td>-0.031836</td>\n",
              "      <td>-0.177277</td>\n",
              "      <td>-0.229084</td>\n",
              "      <td>-0.102956</td>\n",
              "      <td>-0.016726</td>\n",
              "      <td>-0.372048</td>\n",
              "      <td>-0.373859</td>\n",
              "      <td>-0.302886</td>\n",
              "      <td>-0.129740</td>\n",
              "      <td>-0.090123</td>\n",
              "      <td>-0.111729</td>\n",
              "      <td>-0.127814</td>\n",
              "      <td>-0.039378</td>\n",
              "      <td>-0.018301</td>\n",
              "      <td>-0.056511</td>\n",
              "      <td>-0.056853</td>\n",
              "      <td>-0.105817</td>\n",
              "      <td>-0.066023</td>\n",
              "      <td>-0.138071</td>\n",
              "      <td>-0.077435</td>\n",
              "      <td>-0.058953</td>\n",
              "      <td>-0.034513</td>\n",
              "      <td>-0.059784</td>\n",
              "      <td>-0.005063</td>\n",
              "      <td>-0.005095</td>\n",
              "      <td>-0.003627</td>\n",
              "      <td>-0.004875</td>\n",
              "      <td>-0.005854</td>\n",
              "      <td>-0.017408</td>\n",
              "      <td>-0.011979</td>\n",
              "      <td>-0.01565</td>\n",
              "      <td>-0.012576</td>\n",
              "      <td>-0.018817</td>\n",
              "      <td>-0.019847</td>\n",
              "      <td>-0.273191</td>\n",
              "    </tr>\n",
              "    <tr>\n",
              "      <th>3</th>\n",
              "      <td>-0.075835</td>\n",
              "      <td>0.292298</td>\n",
              "      <td>-0.053388</td>\n",
              "      <td>0.361427</td>\n",
              "      <td>0.138158</td>\n",
              "      <td>-0.038206</td>\n",
              "      <td>-0.042103</td>\n",
              "      <td>-0.013493</td>\n",
              "      <td>-0.015538</td>\n",
              "      <td>-0.033177</td>\n",
              "      <td>0.394852</td>\n",
              "      <td>0.159998</td>\n",
              "      <td>-0.128231</td>\n",
              "      <td>-0.119174</td>\n",
              "      <td>0.082781</td>\n",
              "      <td>-0.01177</td>\n",
              "      <td>-0.107658</td>\n",
              "      <td>0.20932</td>\n",
              "      <td>0.711737</td>\n",
              "      <td>-0.18425</td>\n",
              "      <td>-0.17158</td>\n",
              "      <td>-0.269093</td>\n",
              "      <td>-0.218236</td>\n",
              "      <td>-0.234798</td>\n",
              "      <td>-0.211807</td>\n",
              "      <td>-0.101355</td>\n",
              "      <td>-0.155643</td>\n",
              "      <td>-0.210345</td>\n",
              "      <td>-0.198435</td>\n",
              "      <td>-0.164756</td>\n",
              "      <td>-0.158936</td>\n",
              "      <td>-0.168343</td>\n",
              "      <td>-0.155598</td>\n",
              "      <td>0.603793</td>\n",
              "      <td>3.582161</td>\n",
              "      <td>3.784643</td>\n",
              "      <td>0.367953</td>\n",
              "      <td>-0.061346</td>\n",
              "      <td>2.111527</td>\n",
              "      <td>0.161406</td>\n",
              "      <td>...</td>\n",
              "      <td>-0.018163</td>\n",
              "      <td>0.781890</td>\n",
              "      <td>0.391623</td>\n",
              "      <td>-0.224049</td>\n",
              "      <td>-0.234897</td>\n",
              "      <td>-0.031836</td>\n",
              "      <td>-0.177277</td>\n",
              "      <td>-0.229084</td>\n",
              "      <td>-0.102956</td>\n",
              "      <td>-0.016726</td>\n",
              "      <td>1.490534</td>\n",
              "      <td>-0.085861</td>\n",
              "      <td>0.946559</td>\n",
              "      <td>-0.114669</td>\n",
              "      <td>-0.090141</td>\n",
              "      <td>-0.102518</td>\n",
              "      <td>-0.111115</td>\n",
              "      <td>-0.039378</td>\n",
              "      <td>-0.018301</td>\n",
              "      <td>-0.056511</td>\n",
              "      <td>-0.056853</td>\n",
              "      <td>-0.105817</td>\n",
              "      <td>-0.066023</td>\n",
              "      <td>-0.138071</td>\n",
              "      <td>-0.077435</td>\n",
              "      <td>-0.058953</td>\n",
              "      <td>-0.034513</td>\n",
              "      <td>-0.059784</td>\n",
              "      <td>-0.005063</td>\n",
              "      <td>-0.005095</td>\n",
              "      <td>-0.003627</td>\n",
              "      <td>-0.004875</td>\n",
              "      <td>-0.005854</td>\n",
              "      <td>-0.017408</td>\n",
              "      <td>-0.011979</td>\n",
              "      <td>-0.01565</td>\n",
              "      <td>-0.012576</td>\n",
              "      <td>-0.018817</td>\n",
              "      <td>-0.019847</td>\n",
              "      <td>-0.291398</td>\n",
              "    </tr>\n",
              "    <tr>\n",
              "      <th>4</th>\n",
              "      <td>-0.075835</td>\n",
              "      <td>0.446662</td>\n",
              "      <td>-0.053388</td>\n",
              "      <td>-0.213263</td>\n",
              "      <td>-0.218813</td>\n",
              "      <td>-0.038206</td>\n",
              "      <td>-0.042103</td>\n",
              "      <td>-0.013493</td>\n",
              "      <td>-0.015538</td>\n",
              "      <td>-0.033177</td>\n",
              "      <td>-0.215279</td>\n",
              "      <td>-0.220749</td>\n",
              "      <td>-0.128231</td>\n",
              "      <td>-0.119174</td>\n",
              "      <td>-0.196705</td>\n",
              "      <td>-0.01177</td>\n",
              "      <td>-0.107658</td>\n",
              "      <td>0.20932</td>\n",
              "      <td>-1.405013</td>\n",
              "      <td>-0.18425</td>\n",
              "      <td>-0.17158</td>\n",
              "      <td>3.716188</td>\n",
              "      <td>4.582197</td>\n",
              "      <td>-0.234798</td>\n",
              "      <td>-0.211807</td>\n",
              "      <td>-0.101355</td>\n",
              "      <td>-0.155643</td>\n",
              "      <td>4.754089</td>\n",
              "      <td>5.039428</td>\n",
              "      <td>-0.164756</td>\n",
              "      <td>-0.158936</td>\n",
              "      <td>-0.168343</td>\n",
              "      <td>-0.155598</td>\n",
              "      <td>0.603793</td>\n",
              "      <td>-0.279161</td>\n",
              "      <td>-0.264226</td>\n",
              "      <td>0.367953</td>\n",
              "      <td>-0.061346</td>\n",
              "      <td>-0.087339</td>\n",
              "      <td>0.161406</td>\n",
              "      <td>...</td>\n",
              "      <td>-0.018163</td>\n",
              "      <td>-0.240903</td>\n",
              "      <td>-0.244844</td>\n",
              "      <td>-0.224049</td>\n",
              "      <td>-0.234897</td>\n",
              "      <td>-0.031836</td>\n",
              "      <td>1.176612</td>\n",
              "      <td>1.457429</td>\n",
              "      <td>2.456464</td>\n",
              "      <td>-0.016726</td>\n",
              "      <td>-0.372048</td>\n",
              "      <td>-0.373859</td>\n",
              "      <td>-0.302886</td>\n",
              "      <td>-0.129740</td>\n",
              "      <td>-0.090111</td>\n",
              "      <td>4.100308</td>\n",
              "      <td>1.520485</td>\n",
              "      <td>-0.039378</td>\n",
              "      <td>-0.018301</td>\n",
              "      <td>-0.056511</td>\n",
              "      <td>-0.056853</td>\n",
              "      <td>-0.105817</td>\n",
              "      <td>-0.066023</td>\n",
              "      <td>-0.138071</td>\n",
              "      <td>-0.077435</td>\n",
              "      <td>-0.058953</td>\n",
              "      <td>-0.034513</td>\n",
              "      <td>-0.059784</td>\n",
              "      <td>-0.005063</td>\n",
              "      <td>-0.005095</td>\n",
              "      <td>-0.003627</td>\n",
              "      <td>-0.004875</td>\n",
              "      <td>-0.005854</td>\n",
              "      <td>-0.017408</td>\n",
              "      <td>-0.011979</td>\n",
              "      <td>-0.01565</td>\n",
              "      <td>-0.012576</td>\n",
              "      <td>-0.018817</td>\n",
              "      <td>-0.019847</td>\n",
              "      <td>0.000412</td>\n",
              "    </tr>\n",
              "  </tbody>\n",
              "</table>\n",
              "<p>5 rows × 204 columns</p>\n",
              "</div>"
            ],
            "text/plain": [
              "       var3     var15  ...  saldo_medio_var44_ult3     var38\n",
              "0 -0.075835 -0.788249  ...               -0.019847 -0.427183\n",
              "1 -0.075835  0.060753  ...               -0.019847 -0.372038\n",
              "2 -0.075835 -0.788249  ...               -0.019847 -0.273191\n",
              "3 -0.075835  0.292298  ...               -0.019847 -0.291398\n",
              "4 -0.075835  0.446662  ...               -0.019847  0.000412\n",
              "\n",
              "[5 rows x 204 columns]"
            ]
          },
          "metadata": {
            "tags": []
          },
          "execution_count": 84
        }
      ]
    },
    {
      "cell_type": "markdown",
      "metadata": {
        "id": "tva4Wj637GMe"
      },
      "source": [
        "### Upsampling using SMOTE from imblearn due to imbalanced dataset"
      ]
    },
    {
      "cell_type": "code",
      "metadata": {
        "colab": {
          "base_uri": "https://localhost:8080/"
        },
        "id": "jAm90lD0DjL-",
        "outputId": "49321d1c-7f0d-43d4-f23e-50e51911308a"
      },
      "source": [
        "from imblearn.over_sampling import SMOTE\n",
        "# print(imblearn.__version__)\n",
        "oversample = SMOTE()\n",
        "X_new, y_new = oversample.fit_resample(X_train_scaled, target)"
      ],
      "execution_count": null,
      "outputs": [
        {
          "output_type": "stream",
          "text": [
            "/usr/local/lib/python3.7/dist-packages/sklearn/utils/deprecation.py:87: FutureWarning: Function safe_indexing is deprecated; safe_indexing is deprecated in version 0.22 and will be removed in version 0.24.\n",
            "  warnings.warn(msg, category=FutureWarning)\n"
          ],
          "name": "stderr"
        }
      ]
    },
    {
      "cell_type": "code",
      "metadata": {
        "colab": {
          "base_uri": "https://localhost:8080/"
        },
        "id": "E1GXAsPLDjL-",
        "outputId": "db3271c3-847e-45b7-9a81-2f2c3b9b27ad"
      },
      "source": [
        "from collections import Counter\n",
        "print('Origianl dataset shape:', Counter(target))\n",
        "print('Resample dataset shape:', Counter(y_new))"
      ],
      "execution_count": null,
      "outputs": [
        {
          "output_type": "stream",
          "text": [
            "Origianl dataset shape: Counter({0: 73012, 1: 3008})\n",
            "Resample dataset shape: Counter({0: 73012, 1: 73012})\n"
          ],
          "name": "stdout"
        }
      ]
    },
    {
      "cell_type": "code",
      "metadata": {
        "colab": {
          "base_uri": "https://localhost:8080/"
        },
        "id": "FWSOWKDVDjL-",
        "outputId": "626c9ce0-9aaa-4235-a2f6-2055fd96cac7"
      },
      "source": [
        "print(X_new.shape,y_new.shape)"
      ],
      "execution_count": null,
      "outputs": [
        {
          "output_type": "stream",
          "text": [
            "(146024, 204) (146024,)\n"
          ],
          "name": "stdout"
        }
      ]
    },
    {
      "cell_type": "markdown",
      "metadata": {
        "id": "m361iaiP7bfP"
      },
      "source": [
        "## Modeling"
      ]
    },
    {
      "cell_type": "code",
      "metadata": {
        "id": "oxhCw8rGDjL_"
      },
      "source": [
        "#train test split\n",
        "x_train,x_test,y_train,y_test=train_test_split(X_new,y_new,test_size=0.80,random_state=42,stratify=y_new)"
      ],
      "execution_count": null,
      "outputs": []
    },
    {
      "cell_type": "markdown",
      "metadata": {
        "id": "pbujroH97iTV"
      },
      "source": [
        "### Baseline model - Logistic Regression"
      ]
    },
    {
      "cell_type": "code",
      "metadata": {
        "colab": {
          "base_uri": "https://localhost:8080/"
        },
        "id": "HyjzyE8ODjL_",
        "outputId": "85b81f30-9314-45ca-a933-088d080f3c5e"
      },
      "source": [
        "logreg = LogisticRegression(C=0.001,penalty='l2')\n",
        "logreg.fit(x_train, y_train)\n",
        "y_pred_log = logreg.predict(x_test)\n",
        "\n",
        "print('Logistic Regression accuracy score: {0:0.4f}'. format(accuracy_score(y_test, y_pred_log)))"
      ],
      "execution_count": null,
      "outputs": [
        {
          "output_type": "stream",
          "text": [
            "Logistic Regression accuracy score: 0.7120\n"
          ],
          "name": "stdout"
        }
      ]
    },
    {
      "cell_type": "code",
      "metadata": {
        "colab": {
          "base_uri": "https://localhost:8080/"
        },
        "id": "24F3URIDDqvN",
        "outputId": "77a6adeb-06ed-4f48-b264-eb7b13ca2ade"
      },
      "source": [
        "f1_lr=f1_score(y_test, y_pred_log, average='macro')\n",
        "print(f1_lr)"
      ],
      "execution_count": null,
      "outputs": [
        {
          "output_type": "stream",
          "text": [
            "0.7117624111138403\n"
          ],
          "name": "stdout"
        }
      ]
    },
    {
      "cell_type": "code",
      "metadata": {
        "colab": {
          "base_uri": "https://localhost:8080/"
        },
        "id": "ohMGbAJBDjL_",
        "outputId": "fa638254-b6e6-48e5-8fb0-174e9bd2fc80"
      },
      "source": [
        "confusion_matrix (y_test,y_pred_log)"
      ],
      "execution_count": null,
      "outputs": [
        {
          "output_type": "execute_result",
          "data": {
            "text/plain": [
              "array([[39848, 18562],\n",
              "       [15080, 43330]])"
            ]
          },
          "metadata": {
            "tags": []
          },
          "execution_count": 91
        }
      ]
    },
    {
      "cell_type": "code",
      "metadata": {
        "colab": {
          "base_uri": "https://localhost:8080/",
          "height": 339
        },
        "id": "zRQEbTp2DjMA",
        "outputId": "5024d50b-c72b-4481-d7e8-03f302e8d56b"
      },
      "source": [
        "#plot the confusion matrix\n",
        "#your code here\n",
        "fig,ax=plt.subplots(1,2,figsize=(10,5))\n",
        "plt.suptitle('Confusion matrix for logistic regression')\n",
        "plot_confusion_matrix(logreg, x_train, y_train,\n",
        "                                 cmap=plt.cm.Blues,\n",
        "                                 normalize='true',ax=ax[0])\n",
        "ax[0].set_title('For train data')\n",
        "plot_confusion_matrix(logreg, x_test, y_test,\n",
        "                                 cmap=plt.cm.Blues,\n",
        "                                 normalize='true',ax=ax[1])\n",
        "ax[1].set_title('For test data');"
      ],
      "execution_count": null,
      "outputs": [
        {
          "output_type": "display_data",
          "data": {
            "image/png": "[encoded data removed]",
            "text/plain": [
              "<Figure size 720x360 with 4 Axes>"
            ]
          },
          "metadata": {
            "tags": []
          }
        }
      ]
    },
    {
      "cell_type": "markdown",
      "metadata": {
        "id": "qeAewbF57sDe"
      },
      "source": [
        "### Desicion Tree model"
      ]
    },
    {
      "cell_type": "code",
      "metadata": {
        "id": "BElcMzq2DjMA"
      },
      "source": [
        "DecisionTree=DecisionTreeClassifier(random_state=42).fit(x_train,y_train)"
      ],
      "execution_count": null,
      "outputs": []
    },
    {
      "cell_type": "code",
      "metadata": {
        "id": "-Bq14ZjUDjMA"
      },
      "source": [
        "y_pred_DT=DecisionTree.predict(x_test)"
      ],
      "execution_count": null,
      "outputs": []
    },
    {
      "cell_type": "code",
      "metadata": {
        "colab": {
          "base_uri": "https://localhost:8080/"
        },
        "id": "ZbhDan1GDjMB",
        "outputId": "292953e2-e955-4b61-f8d3-ac0da4a1d2a1"
      },
      "source": [
        "print('Decision Tree accuracy score for test: {0:0.4f}'. format(accuracy_score(y_test, y_pred_DT)))"
      ],
      "execution_count": null,
      "outputs": [
        {
          "output_type": "stream",
          "text": [
            "Decision Tree accuracy score for test: 0.8657\n"
          ],
          "name": "stdout"
        }
      ]
    },
    {
      "cell_type": "code",
      "metadata": {
        "colab": {
          "base_uri": "https://localhost:8080/"
        },
        "id": "FpPIIHi1DRu-",
        "outputId": "cb795e67-921a-4ad5-9853-b63f7a6ffeb9"
      },
      "source": [
        "f1_DT=f1_score(y_test, y_pred_DT, average='macro')\n",
        "print(f1_DT)"
      ],
      "execution_count": null,
      "outputs": [
        {
          "output_type": "stream",
          "text": [
            "0.8656593346978874\n"
          ],
          "name": "stdout"
        }
      ]
    },
    {
      "cell_type": "code",
      "metadata": {
        "colab": {
          "base_uri": "https://localhost:8080/",
          "height": 339
        },
        "id": "ozB1S9V5DjMB",
        "outputId": "9e0f6ab5-8dc5-4d45-cf48-68289053eb30"
      },
      "source": [
        "#plot the confusion matrix\n",
        "#your code here\n",
        "fig,ax=plt.subplots(1,2,figsize=(10,5))\n",
        "plt.suptitle('Confusion matrix for the overfit decision tree')\n",
        "plot_confusion_matrix(DecisionTree, x_train, y_train,\n",
        "                                 cmap=plt.cm.Blues,\n",
        "                                 normalize='true',ax=ax[0])\n",
        "ax[0].set_title('For train data')\n",
        "plot_confusion_matrix(DecisionTree, x_test, y_test,\n",
        "                                 cmap=plt.cm.Blues,\n",
        "                                 normalize='true',ax=ax[1])\n",
        "ax[1].set_title('For test data');"
      ],
      "execution_count": null,
      "outputs": [
        {
          "output_type": "display_data",
          "data": {
            "image/png": "[encoded data removed]",
            "text/plain": [
              "<Figure size 720x360 with 4 Axes>"
            ]
          },
          "metadata": {
            "tags": []
          }
        }
      ]
    },
    {
      "cell_type": "markdown",
      "metadata": {
        "id": "iY4L9RD3BYnC"
      },
      "source": [
        "## Ensemble Models"
      ]
    },
    {
      "cell_type": "markdown",
      "metadata": {
        "id": "Y0XZ9HsO722b"
      },
      "source": [
        "### Random Forest classifier"
      ]
    },
    {
      "cell_type": "code",
      "metadata": {
        "id": "WKB8xFYyDjMD"
      },
      "source": [
        "RF_model=RandomForestClassifier(bootstrap=True, ccp_alpha=0.0,\n",
        "                       criterion='gini', max_depth=1000, max_features='auto',\n",
        "                       max_leaf_nodes=500, max_samples=None,\n",
        "                       min_impurity_decrease=0.0, min_impurity_split=None,\n",
        "                       min_samples_leaf=3, min_samples_split=500,\n",
        "                       min_weight_fraction_leaf=0.0, n_estimators=2000,\n",
        "                       n_jobs=-1, oob_score=False,\n",
        "                       verbose=0, warm_start=False)"
      ],
      "execution_count": null,
      "outputs": []
    },
    {
      "cell_type": "code",
      "metadata": {
        "colab": {
          "base_uri": "https://localhost:8080/"
        },
        "id": "cY0vQ8jmMXoe",
        "outputId": "208b72d2-92a4-4fc7-f782-c129481c71a4"
      },
      "source": [
        "RF_model.fit(x_train,y_train)"
      ],
      "execution_count": null,
      "outputs": [
        {
          "output_type": "execute_result",
          "data": {
            "text/plain": [
              "RandomForestClassifier(bootstrap=True, ccp_alpha=0.0, class_weight=None,\n",
              "                       criterion='gini', max_depth=1000, max_features='auto',\n",
              "                       max_leaf_nodes=500, max_samples=None,\n",
              "                       min_impurity_decrease=0.0, min_impurity_split=None,\n",
              "                       min_samples_leaf=3, min_samples_split=500,\n",
              "                       min_weight_fraction_leaf=0.0, n_estimators=2000,\n",
              "                       n_jobs=-1, oob_score=False, random_state=None, verbose=0,\n",
              "                       warm_start=False)"
            ]
          },
          "metadata": {
            "tags": []
          },
          "execution_count": 98
        }
      ]
    },
    {
      "cell_type": "code",
      "metadata": {
        "id": "IJ6aGG2cMvvU"
      },
      "source": [
        "y_pred_rf=RF_model.predict(x_test)"
      ],
      "execution_count": null,
      "outputs": []
    },
    {
      "cell_type": "code",
      "metadata": {
        "colab": {
          "base_uri": "https://localhost:8080/"
        },
        "id": "MVVjDIYWM4gw",
        "outputId": "789ffb84-9689-48e8-8182-1293d2c771d3"
      },
      "source": [
        "print('Random forest accuracy score for test: {0:0.4f}'. format(accuracy_score(y_test, y_pred_rf)))"
      ],
      "execution_count": null,
      "outputs": [
        {
          "output_type": "stream",
          "text": [
            "Random forest accuracy score for test: 0.8260\n"
          ],
          "name": "stdout"
        }
      ]
    },
    {
      "cell_type": "code",
      "metadata": {
        "colab": {
          "base_uri": "https://localhost:8080/"
        },
        "id": "_V-EvWMwDzqK",
        "outputId": "b8e5c44c-7398-4629-c020-0594ae484286"
      },
      "source": [
        "f1_RF=f1_score(y_test, y_pred_rf)\n",
        "print(f1_RF)"
      ],
      "execution_count": null,
      "outputs": [
        {
          "output_type": "stream",
          "text": [
            "0.8250572299006866\n"
          ],
          "name": "stdout"
        }
      ]
    },
    {
      "cell_type": "markdown",
      "metadata": {
        "id": "xiVVJr477xuL"
      },
      "source": [
        "### Boosting Classifier"
      ]
    },
    {
      "cell_type": "code",
      "metadata": {
        "id": "dtWvOR3RDjMC"
      },
      "source": [
        "import xgboost as xgb\n",
        "clf_xgb = xgb.XGBClassifier(n_jobs=-1,\n",
        "                      nthread=-1,\n",
        "                      scale_pos_weight=1,\n",
        "                      learning_rate=0.02,  \n",
        "                      colsample_bytree = 0.5,\n",
        "                      subsample = 0.9,\n",
        "                      objective='binary:logistic', \n",
        "                      n_estimators=1000,\n",
        "                      reg_alpha = 0.2,\n",
        "                      max_depth=6, \n",
        "                      gamma=0, random_state=42\n",
        "                     )"
      ],
      "execution_count": null,
      "outputs": []
    },
    {
      "cell_type": "code",
      "metadata": {
        "colab": {
          "base_uri": "https://localhost:8080/"
        },
        "id": "fFAlugaQDjMC",
        "outputId": "ff6bb912-596b-4107-e5da-3eecddb20f6c"
      },
      "source": [
        "clf_xgb.fit(x_train,y_train)"
      ],
      "execution_count": null,
      "outputs": [
        {
          "output_type": "execute_result",
          "data": {
            "text/plain": [
              "XGBClassifier(base_score=0.5, booster='gbtree', colsample_bylevel=1,\n",
              "              colsample_bynode=1, colsample_bytree=0.5, gamma=0,\n",
              "              learning_rate=0.02, max_delta_step=0, max_depth=6,\n",
              "              min_child_weight=1, missing=None, n_estimators=1000, n_jobs=-1,\n",
              "              nthread=-1, objective='binary:logistic', random_state=42,\n",
              "              reg_alpha=0.2, reg_lambda=1, scale_pos_weight=1, seed=None,\n",
              "              silent=None, subsample=0.9, verbosity=1)"
            ]
          },
          "metadata": {
            "tags": []
          },
          "execution_count": 102
        }
      ]
    },
    {
      "cell_type": "code",
      "metadata": {
        "id": "I0lL67eXHhpj"
      },
      "source": [
        "y_pred_xgb=clf_xgb.predict(x_test)"
      ],
      "execution_count": null,
      "outputs": []
    },
    {
      "cell_type": "code",
      "metadata": {
        "colab": {
          "base_uri": "https://localhost:8080/"
        },
        "id": "VTBjgbLoHl21",
        "outputId": "9bf03fa6-52c1-4744-c6d8-f9b1199e21b2"
      },
      "source": [
        "print('XBoost accuracy score for test: {0:0.4f}'. format(accuracy_score(y_test, y_pred_xgb)))"
      ],
      "execution_count": null,
      "outputs": [
        {
          "output_type": "stream",
          "text": [
            "XBoost accuracy score for test: 0.9144\n"
          ],
          "name": "stdout"
        }
      ]
    },
    {
      "cell_type": "code",
      "metadata": {
        "colab": {
          "base_uri": "https://localhost:8080/"
        },
        "id": "IUVvHgTdEE8v",
        "outputId": "bcb47723-7c51-4a8f-fc47-4bf16a1bed7b"
      },
      "source": [
        "f1_XB=f1_score(y_test, y_pred_xgb)\n",
        "print(f1_XB)"
      ],
      "execution_count": null,
      "outputs": [
        {
          "output_type": "stream",
          "text": [
            "0.9154549530117323\n"
          ],
          "name": "stdout"
        }
      ]
    },
    {
      "cell_type": "markdown",
      "metadata": {
        "id": "WVRUExgrBkDk"
      },
      "source": [
        "## Model performance evaluation"
      ]
    },
    {
      "cell_type": "code",
      "metadata": {
        "id": "RgvpRyhxDjMD"
      },
      "source": [
        "dataset=\"Normal with Response Encoding\"\n",
        "global i\n",
        "i=0\n",
        "def plot_auc(y_true,y_pred,label,dataset=dataset):\n",
        "  \"\"\"\n",
        "  Plots auc curve when y_true and y_pred are given\n",
        "  dataset is string which tells which dataset were used.\n",
        "  label: tells which model was used\n",
        "  If label is a list plots all the auc curve for all labels (here y_pred will be a list of lists )\n",
        "  \"\"\"\n",
        "  \n",
        "  \n",
        "  if (type(label)!=list) & (type(label)!=np.array):\n",
        "    print(\"\\t\\t %s on %s dataset \\t\\t \\n\"%(label,dataset))\n",
        "    fpr,tpr,threshold = metrics.roc_curve(y_true,y_pred) #getting true positive rate, false positive rate\n",
        "    auc = metrics.roc_auc_score(y_true,y_pred) #getting auc score\n",
        "    log_loss = metrics.log_loss(y_true,y_pred) #getting logloss\n",
        "    label_1 = label+' AUC=%.3f'%(auc)\n",
        "\n",
        "    #plotting tpr vs fpr\n",
        "    sns.lineplot(fpr,tpr,label=label_1)\n",
        "    x=np.arange(0,1.1,0.1) #auc=0.5 line \n",
        "    sns.lineplot(x,x,label=\"AUC=0.5\")\n",
        "    plt.title(\"ROC on %s dataset\"%(dataset))\n",
        "    plt.xlabel('False Positive Rate')\n",
        "    plt.ylabel(\"True Positive Rate\")\n",
        "    plt.legend(bbox_to_anchor=(1.05, 1), loc=2, borderaxespad=0.) #legend box outside graph\n",
        "    plt.show()\n",
        "    print(\"The log loss and auc was found to be %.3f and %.3f for %s on %s dataset.\"%(log_loss,auc,label,dataset))\n",
        "    #creating a dataframe of the result\n",
        "    result_dict = {\"Model\":label,'Dataset':dataset,'log_loss':log_loss,'auc':auc}\n",
        "    \n",
        "    return pd.DataFrame(result_dict,index=[i])\n",
        "\n",
        "  else:\n",
        "    plt.figure(figsize=(12,8))\n",
        "    for k,y in enumerate(y_pred):\n",
        "      fpr,tpr,threshold = metrics.roc_curve(y_true,y)\n",
        "      auc = metrics.roc_auc_score(y_true,y)\n",
        "      label_ = label[k]+' AUC=%.3f'%(auc)\n",
        "      #plotting tpr vs fpr\n",
        "      sns.lineplot(fpr,tpr,label=label_)\n",
        "\n",
        "    x=np.arange(0,1.1,0.1)\n",
        "    sns.lineplot(x,x,label=\"AUC=0.5\")\n",
        "    plt.title(\"Combined ROC\")\n",
        "    plt.xlabel('False Positive Rate')\n",
        "    plt.ylabel(\"True Positive Rate\")\n",
        "    plt.legend(bbox_to_anchor=(1.05, 1), loc=2, borderaxespad=0.) #legend box outside graph\n",
        "    plt.show()"
      ],
      "execution_count": null,
      "outputs": []
    },
    {
      "cell_type": "code",
      "metadata": {
        "id": "kW3rDSANLSSx"
      },
      "source": [
        "\n",
        "def plot_feature_importance(df,feat_imp,top=20,size=(6,6)):\n",
        "    \"\"\"\n",
        "    getting most important top features if df and feature_importance array is passed\n",
        "    \"\"\"\n",
        "    top_indices = np.argsort(feat_imp)[::-1][:top] #getting the indices with top feature importace\n",
        "    most_important_feat = df.columns[top_indices] #getiing the columns names\n",
        "    plt.figure(figsize=size)\n",
        "    sns.barplot(x=feat_imp[top_indices],y=most_important_feat) #plotting feature importance \n",
        "    plt.title('Feature Importance')\n",
        "    plt.xlabel('Importance')\n",
        "    plt.ylabel(\"Feature names\")\n",
        "    plt.show()"
      ],
      "execution_count": null,
      "outputs": []
    },
    {
      "cell_type": "code",
      "metadata": {
        "id": "JLKvwt_pOJfO"
      },
      "source": [
        "def get_top_features(df,feat_imp,top=50):\n",
        "  \"\"\"\n",
        "  gets the top features.\n",
        "  if top is of integer dtype it will return top features,\n",
        "  if top is between 0 and 1, it will return features that have at least feature importance value= top\n",
        "  \"\"\"\n",
        "  if (top>0.)&(top<=1.): #getting the features that have feature importance value greater than top\n",
        "    feature_to_consider = [1 if i>=top else 0 for i in feat_imp]\n",
        "    most_important_feat = [i  for i,j in zip(df.columns,feature_to_consider) if (j==1)]#getiing the columns names\n",
        "  else:\n",
        "    top_indices = np.argsort(feat_imp)[::-1][:top] #getting the indices with top feature importace\n",
        "    most_important_feat = df.columns[top_indices] #getiing the columns names\n",
        "  return most_important_feat"
      ],
      "execution_count": null,
      "outputs": []
    },
    {
      "cell_type": "code",
      "metadata": {
        "colab": {
          "base_uri": "https://localhost:8080/",
          "height": 437
        },
        "id": "zqKxKcz1OP6_",
        "outputId": "17c13172-9a6a-4c30-9878-ce57fc6ff11f"
      },
      "source": [
        "labels=[] #storing all labels\n",
        "y_preds = [] #storing all y_pred\n",
        "y_pred_log = logreg.predict_proba(x_test)[:,1]\n",
        "label=\"Logisic Regression\"\n",
        "labels.append(label)\n",
        "y_preds.append(y_pred_log)\n",
        "result = plot_auc(y_test,y_pred_log,label)\n",
        "result_df = result\n",
        "del result"
      ],
      "execution_count": null,
      "outputs": [
        {
          "output_type": "stream",
          "text": [
            "\t\t Logisic Regression on Normal with Response Encoding dataset \t\t \n",
            "\n"
          ],
          "name": "stdout"
        },
        {
          "output_type": "stream",
          "text": [
            "/usr/local/lib/python3.7/dist-packages/seaborn/_decorators.py:43: FutureWarning: Pass the following variables as keyword args: x, y. From version 0.12, the only valid positional argument will be `data`, and passing other arguments without an explicit keyword will result in an error or misinterpretation.\n",
            "  FutureWarning\n",
            "/usr/local/lib/python3.7/dist-packages/seaborn/_decorators.py:43: FutureWarning: Pass the following variables as keyword args: x, y. From version 0.12, the only valid positional argument will be `data`, and passing other arguments without an explicit keyword will result in an error or misinterpretation.\n",
            "  FutureWarning\n"
          ],
          "name": "stderr"
        },
        {
          "output_type": "display_data",
          "data": {
            "image/png": "[encoded data removed]",
            "text/plain": [
              "<Figure size 432x288 with 1 Axes>"
            ]
          },
          "metadata": {
            "tags": [],
            "needs_background": "light"
          }
        },
        {
          "output_type": "stream",
          "text": [
            "The log loss and auc was found to be 0.555 and 0.802 for Logisic Regression on Normal with Response Encoding dataset.\n"
          ],
          "name": "stdout"
        }
      ]
    },
    {
      "cell_type": "code",
      "metadata": {
        "colab": {
          "base_uri": "https://localhost:8080/"
        },
        "id": "Vx4raeMxOtbO",
        "outputId": "bdc7d7de-ad6a-47d2-eaea-5f09d2b55621"
      },
      "source": [
        "lr_auc = roc_auc_score(y_test, y_pred_log)\n",
        "lr_auc"
      ],
      "execution_count": null,
      "outputs": [
        {
          "output_type": "execute_result",
          "data": {
            "text/plain": [
              "0.8016661719027376"
            ]
          },
          "metadata": {
            "tags": []
          },
          "execution_count": 80
        }
      ]
    },
    {
      "cell_type": "code",
      "metadata": {
        "colab": {
          "base_uri": "https://localhost:8080/",
          "height": 79
        },
        "id": "jS-4bNt7Th6T",
        "outputId": "e2708e2d-63a2-4ce0-ec30-32d23112884c"
      },
      "source": [
        "result_df"
      ],
      "execution_count": null,
      "outputs": [
        {
          "output_type": "execute_result",
          "data": {
            "text/html": [
              "<div>\n",
              "<style scoped>\n",
              "    .dataframe tbody tr th:only-of-type {\n",
              "        vertical-align: middle;\n",
              "    }\n",
              "\n",
              "    .dataframe tbody tr th {\n",
              "        vertical-align: top;\n",
              "    }\n",
              "\n",
              "    .dataframe thead th {\n",
              "        text-align: right;\n",
              "    }\n",
              "</style>\n",
              "<table border=\"1\" class=\"dataframe\">\n",
              "  <thead>\n",
              "    <tr style=\"text-align: right;\">\n",
              "      <th></th>\n",
              "      <th>Model</th>\n",
              "      <th>Dataset</th>\n",
              "      <th>log_loss</th>\n",
              "      <th>auc</th>\n",
              "    </tr>\n",
              "  </thead>\n",
              "  <tbody>\n",
              "    <tr>\n",
              "      <th>0</th>\n",
              "      <td>Logisic Regression</td>\n",
              "      <td>Normal with Response Encoding</td>\n",
              "      <td>0.556431</td>\n",
              "      <td>0.801666</td>\n",
              "    </tr>\n",
              "  </tbody>\n",
              "</table>\n",
              "</div>"
            ],
            "text/plain": [
              "                Model                        Dataset  log_loss       auc\n",
              "0  Logisic Regression  Normal with Response Encoding  0.556431  0.801666"
            ]
          },
          "metadata": {
            "tags": []
          },
          "execution_count": 81
        }
      ]
    },
    {
      "cell_type": "code",
      "metadata": {
        "colab": {
          "base_uri": "https://localhost:8080/",
          "height": 437
        },
        "id": "wUY_Aq-wT8J-",
        "outputId": "9c9a73c6-8708-4d6b-cc2e-b9860306f215"
      },
      "source": [
        "i+=1\n",
        "y_pred_DT=DecisionTree.predict_proba(x_test)[:,1]\n",
        "label=\"Decision Tree Classifier\"\n",
        "labels.append(label)\n",
        "y_preds.append(y_pred_DT)\n",
        "result = plot_auc(y_test,y_pred_DT,label)\n",
        "result_df = result_df.append(result)\n",
        "del result"
      ],
      "execution_count": null,
      "outputs": [
        {
          "output_type": "stream",
          "text": [
            "\t\t Decision Tree Classifier on Normal with Response Encoding dataset \t\t \n",
            "\n"
          ],
          "name": "stdout"
        },
        {
          "output_type": "stream",
          "text": [
            "/usr/local/lib/python3.7/dist-packages/seaborn/_decorators.py:43: FutureWarning: Pass the following variables as keyword args: x, y. From version 0.12, the only valid positional argument will be `data`, and passing other arguments without an explicit keyword will result in an error or misinterpretation.\n",
            "  FutureWarning\n",
            "/usr/local/lib/python3.7/dist-packages/seaborn/_decorators.py:43: FutureWarning: Pass the following variables as keyword args: x, y. From version 0.12, the only valid positional argument will be `data`, and passing other arguments without an explicit keyword will result in an error or misinterpretation.\n",
            "  FutureWarning\n"
          ],
          "name": "stderr"
        },
        {
          "output_type": "display_data",
          "data": {
            "image/png": "[encoded data removed]",
            "text/plain": [
              "<Figure size 432x288 with 1 Axes>"
            ]
          },
          "metadata": {
            "tags": [],
            "needs_background": "light"
          }
        },
        {
          "output_type": "stream",
          "text": [
            "The log loss and auc was found to be 4.221 and 0.873 for Decision Tree Classifier on Normal with Response Encoding dataset.\n"
          ],
          "name": "stdout"
        }
      ]
    },
    {
      "cell_type": "code",
      "metadata": {
        "colab": {
          "base_uri": "https://localhost:8080/",
          "height": 110
        },
        "id": "k0JTSAqfUWvY",
        "outputId": "77e21d5d-d1c4-46de-bea4-edede1e273a4"
      },
      "source": [
        "result_df"
      ],
      "execution_count": null,
      "outputs": [
        {
          "output_type": "execute_result",
          "data": {
            "text/html": [
              "<div>\n",
              "<style scoped>\n",
              "    .dataframe tbody tr th:only-of-type {\n",
              "        vertical-align: middle;\n",
              "    }\n",
              "\n",
              "    .dataframe tbody tr th {\n",
              "        vertical-align: top;\n",
              "    }\n",
              "\n",
              "    .dataframe thead th {\n",
              "        text-align: right;\n",
              "    }\n",
              "</style>\n",
              "<table border=\"1\" class=\"dataframe\">\n",
              "  <thead>\n",
              "    <tr style=\"text-align: right;\">\n",
              "      <th></th>\n",
              "      <th>Model</th>\n",
              "      <th>Dataset</th>\n",
              "      <th>log_loss</th>\n",
              "      <th>auc</th>\n",
              "    </tr>\n",
              "  </thead>\n",
              "  <tbody>\n",
              "    <tr>\n",
              "      <th>0</th>\n",
              "      <td>Logisic Regression</td>\n",
              "      <td>Normal with Response Encoding</td>\n",
              "      <td>0.556431</td>\n",
              "      <td>0.801666</td>\n",
              "    </tr>\n",
              "    <tr>\n",
              "      <th>4</th>\n",
              "      <td>Decision Tree Classifier</td>\n",
              "      <td>Normal with Response Encoding</td>\n",
              "      <td>4.220769</td>\n",
              "      <td>0.872632</td>\n",
              "    </tr>\n",
              "  </tbody>\n",
              "</table>\n",
              "</div>"
            ],
            "text/plain": [
              "                      Model                        Dataset  log_loss       auc\n",
              "0        Logisic Regression  Normal with Response Encoding  0.556431  0.801666\n",
              "4  Decision Tree Classifier  Normal with Response Encoding  4.220769  0.872632"
            ]
          },
          "metadata": {
            "tags": []
          },
          "execution_count": 86
        }
      ]
    },
    {
      "cell_type": "code",
      "metadata": {
        "colab": {
          "base_uri": "https://localhost:8080/",
          "height": 437
        },
        "id": "gTrw92POUynJ",
        "outputId": "ae6b2f45-10c1-457f-a6b2-719851fa2087"
      },
      "source": [
        "i+=1\n",
        "y_pred_rf=RF_model.predict_proba(x_test)[:,1]\n",
        "label=\"Random Forest Classifier\"\n",
        "labels.append(label)\n",
        "y_preds.append(y_pred_rf)\n",
        "result = plot_auc(y_test,y_pred_rf,label,dataset)\n",
        "result_df = result_df.append(result)\n",
        "del result"
      ],
      "execution_count": null,
      "outputs": [
        {
          "output_type": "stream",
          "text": [
            "\t\t Random Forest Classifier on Normal with Response Encoding dataset \t\t \n",
            "\n"
          ],
          "name": "stdout"
        },
        {
          "output_type": "stream",
          "text": [
            "/usr/local/lib/python3.7/dist-packages/seaborn/_decorators.py:43: FutureWarning: Pass the following variables as keyword args: x, y. From version 0.12, the only valid positional argument will be `data`, and passing other arguments without an explicit keyword will result in an error or misinterpretation.\n",
            "  FutureWarning\n",
            "/usr/local/lib/python3.7/dist-packages/seaborn/_decorators.py:43: FutureWarning: Pass the following variables as keyword args: x, y. From version 0.12, the only valid positional argument will be `data`, and passing other arguments without an explicit keyword will result in an error or misinterpretation.\n",
            "  FutureWarning\n"
          ],
          "name": "stderr"
        },
        {
          "output_type": "display_data",
          "data": {
            "image/png": "[encoded data removed]",
            "text/plain": [
              "<Figure size 432x288 with 1 Axes>"
            ]
          },
          "metadata": {
            "tags": [],
            "needs_background": "light"
          }
        },
        {
          "output_type": "stream",
          "text": [
            "The log loss and auc was found to be 0.453 and 0.889 for Random Forest Classifier on Normal with Response Encoding dataset.\n"
          ],
          "name": "stdout"
        }
      ]
    },
    {
      "cell_type": "code",
      "metadata": {
        "id": "_Ju2Spz4G6y8"
      },
      "source": [
        "result_df"
      ],
      "execution_count": null,
      "outputs": []
    },
    {
      "cell_type": "code",
      "metadata": {
        "colab": {
          "base_uri": "https://localhost:8080/",
          "height": 437
        },
        "id": "PTUTegKqVHFN",
        "outputId": "ee45deff-d311-4e19-b573-117983bcfbad"
      },
      "source": [
        "i+=1\n",
        "y_pred_xgb=clf_xgb.predict_proba(x_test)[:,1]\n",
        "label=\"XBoost Classifier\"\n",
        "labels.append(label)\n",
        "y_preds.append(y_pred_xgb)\n",
        "result = plot_auc(y_test,y_pred_xgb,label,dataset)\n",
        "result_df = result_df.append(result)\n",
        "del result"
      ],
      "execution_count": null,
      "outputs": [
        {
          "output_type": "stream",
          "text": [
            "\t\t XBoost Classifier on Normal with Response Encoding dataset \t\t \n",
            "\n"
          ],
          "name": "stdout"
        },
        {
          "output_type": "stream",
          "text": [
            "/usr/local/lib/python3.7/dist-packages/seaborn/_decorators.py:43: FutureWarning: Pass the following variables as keyword args: x, y. From version 0.12, the only valid positional argument will be `data`, and passing other arguments without an explicit keyword will result in an error or misinterpretation.\n",
            "  FutureWarning\n",
            "/usr/local/lib/python3.7/dist-packages/seaborn/_decorators.py:43: FutureWarning: Pass the following variables as keyword args: x, y. From version 0.12, the only valid positional argument will be `data`, and passing other arguments without an explicit keyword will result in an error or misinterpretation.\n",
            "  FutureWarning\n"
          ],
          "name": "stderr"
        },
        {
          "output_type": "display_data",
          "data": {
            "image/png": "[encoded data removed]",
            "text/plain": [
              "<Figure size 432x288 with 1 Axes>"
            ]
          },
          "metadata": {
            "tags": [],
            "needs_background": "light"
          }
        },
        {
          "output_type": "stream",
          "text": [
            "The log loss and auc was found to be 0.267 and 0.961 for XBoost Classifier on Normal with Response Encoding dataset.\n"
          ],
          "name": "stdout"
        }
      ]
    },
    {
      "cell_type": "code",
      "metadata": {
        "colab": {
          "base_uri": "https://localhost:8080/",
          "height": 171
        },
        "id": "6QpIapjoXuS7",
        "outputId": "88b05a4d-43b3-492b-c27c-c1e537c0d6c4"
      },
      "source": [
        "result_df"
      ],
      "execution_count": null,
      "outputs": [
        {
          "output_type": "execute_result",
          "data": {
            "text/html": [
              "<div>\n",
              "<style scoped>\n",
              "    .dataframe tbody tr th:only-of-type {\n",
              "        vertical-align: middle;\n",
              "    }\n",
              "\n",
              "    .dataframe tbody tr th {\n",
              "        vertical-align: top;\n",
              "    }\n",
              "\n",
              "    .dataframe thead th {\n",
              "        text-align: right;\n",
              "    }\n",
              "</style>\n",
              "<table border=\"1\" class=\"dataframe\">\n",
              "  <thead>\n",
              "    <tr style=\"text-align: right;\">\n",
              "      <th></th>\n",
              "      <th>Model</th>\n",
              "      <th>Dataset</th>\n",
              "      <th>log_loss</th>\n",
              "      <th>auc</th>\n",
              "    </tr>\n",
              "  </thead>\n",
              "  <tbody>\n",
              "    <tr>\n",
              "      <th>0</th>\n",
              "      <td>Logisic Regression</td>\n",
              "      <td>Normal with Response Encoding</td>\n",
              "      <td>0.556431</td>\n",
              "      <td>0.801666</td>\n",
              "    </tr>\n",
              "    <tr>\n",
              "      <th>4</th>\n",
              "      <td>Decision Tree Classifier</td>\n",
              "      <td>Normal with Response Encoding</td>\n",
              "      <td>4.220769</td>\n",
              "      <td>0.872632</td>\n",
              "    </tr>\n",
              "    <tr>\n",
              "      <th>5</th>\n",
              "      <td>Random Forest Classifier</td>\n",
              "      <td>Normal with Response Encoding</td>\n",
              "      <td>0.452831</td>\n",
              "      <td>0.888975</td>\n",
              "    </tr>\n",
              "    <tr>\n",
              "      <th>7</th>\n",
              "      <td>XBoost Classifier</td>\n",
              "      <td>Normal with Response Encoding</td>\n",
              "      <td>0.266911</td>\n",
              "      <td>0.960791</td>\n",
              "    </tr>\n",
              "  </tbody>\n",
              "</table>\n",
              "</div>"
            ],
            "text/plain": [
              "                      Model                        Dataset  log_loss       auc\n",
              "0        Logisic Regression  Normal with Response Encoding  0.556431  0.801666\n",
              "4  Decision Tree Classifier  Normal with Response Encoding  4.220769  0.872632\n",
              "5  Random Forest Classifier  Normal with Response Encoding  0.452831  0.888975\n",
              "7         XBoost Classifier  Normal with Response Encoding  0.266911  0.960791"
            ]
          },
          "metadata": {
            "tags": []
          },
          "execution_count": 90
        }
      ]
    },
    {
      "cell_type": "code",
      "metadata": {
        "id": "X1uh5CY_Yf8j"
      },
      "source": [
        "def p_importance(model, cols, fi, fistd = 0):\n",
        "    return pd.DataFrame({'features':cols, 'importance':fi, 'importance_std': fistd}\n",
        "                       ).sort_values('importance', ascending=False)"
      ],
      "execution_count": null,
      "outputs": []
    },
    {
      "cell_type": "code",
      "metadata": {
        "id": "W2reB-hoaogP"
      },
      "source": [
        "from sklearn.inspection import permutation_importance\n",
        "#def PI_plot(model,X_test,y_test):\n",
        "  result = permutation_importance(model, X_test, y_test,n_repeats=30,random_state=42)\n",
        "  cols=list(X_test.columns)\n",
        "  df=p_importance(model,cols,result.importances_mean,result.importances_std)\n",
        "  fig, ax = plt.subplots(figsize=(10,5))\n",
        "  ax.plot(df['features'],df['importance'],'-o')\n",
        "  ax.set(xlabel='Features',ylabel='Mean_importance',title=\"Permutation Importance plot with importance upto 2 standard deviations\")\n",
        "  ax.fill_between(df['features'],df['importance']-2*df['importance_std'],df['importance']+2*df['importance_std'],alpha=0.3)\n",
        "  plt.xticks(rotation=45)\n",
        "  plt.tight_layout()"
      ],
      "execution_count": null,
      "outputs": []
    },
    {
      "cell_type": "code",
      "metadata": {
        "id": "IadB4TVSa0bS"
      },
      "source": [
        "#plot_feature_importance(x_train,model.feature_importances_,top=50,size=(7,12))"
      ],
      "execution_count": null,
      "outputs": []
    },
    {
      "cell_type": "code",
      "metadata": {
        "id": "6F9tkNTfa60B"
      },
      "source": [
        ""
      ],
      "execution_count": null,
      "outputs": []
    }
  ]
}